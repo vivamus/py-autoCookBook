{
 "cells": [
  {
   "cell_type": "markdown",
   "metadata": {},
   "source": [
    "# Chapter 4. Searching and Reading Local Files\n",
    "### Crawling and searching directories (p. 114)\n",
    "Download [dir](https://github.com/PacktPublishing/Python-Automation-Cookbook-Second-Edition/tree/master/Chapter04/documents/dir) using DownGit.   [os.path doc](https://docs.python.org/3/library/os.path.html) [OO high-level os.pathlib doc](https://docs.python.org/3/librarpathlib.html)"
   ]
  },
  {
   "cell_type": "code",
   "execution_count": 12,
   "metadata": {},
   "outputs": [
    {
     "name": "stdout",
     "output_type": "stream",
     "text": [
      "     root=dir\n",
      "file2.txt dir/file2.txt\n",
      "ODD===> file1.txt dir/file1.txt\n",
      "PDF===> file6.pdf dir/file6.pdf\n",
      "     root=dir/subdir\n",
      "ODD===> file3.txt dir/subdir/file3.txt\n",
      "file4.txt dir/subdir/file4.txt\n",
      "PDF===> ODD===> file5.pdf dir/subdir/file5.pdf\n"
     ]
    }
   ],
   "source": [
    "import os, re\n",
    "for root, dirs,files in os.walk('dir'):\n",
    "    print(f'     root={root}')\n",
    "    for file in files:\n",
    "        if file.endswith('.pdf'):\n",
    "            print('PDF===>',end=' ')\n",
    "        if re.search(r'[13579]', file):\n",
    "            print('ODD===>',end=' ')\n",
    "        full_path = os.path.join(root,file)\n",
    "        print(file, full_path)"
   ]
  },
  {
   "cell_type": "markdown",
   "metadata": {},
   "source": [
    "### Reading text files (p. 117)\n",
    "downloaded [zen_of_python.txt](https://github.com/PacktPublishing/Python-Automation-Cookbook-Second-Edition/blob/master/Chapter04/documents/zen_of_python.txt)"
   ]
  },
  {
   "cell_type": "code",
   "execution_count": 20,
   "metadata": {},
   "outputs": [
    {
     "name": "stdout",
     "output_type": "stream",
     "text": [
      "Errors should never pass silently.\n",
      "\n",
      "There should be one-- and preferably only one --obvious way to do it.\n",
      "\n",
      "Although that way may not be obvious at first unless you're Dutch.\n",
      "\n"
     ]
    }
   ],
   "source": [
    "with open('zen_of_python.txt') as file:\n",
    "    for line in file:\n",
    "        if 'should' in line.lower():\n",
    "            print(line) \n",
    "        if 'dutch' in line.lower():\n",
    "            print(line)\n",
    "            break"
   ]
  },
  {
   "cell_type": "markdown",
   "metadata": {},
   "source": [
    "### Dealing with encodings (p. 120)\n",
    "downloaded documents dir. [Encoding aliases](https://docs.python.org/3/library/codecs.html#standard-encodings)"
   ]
  },
  {
   "cell_type": "code",
   "execution_count": null,
   "metadata": {},
   "outputs": [],
   "source": [
    "with open('documents/example_utf8.txt') as file:\n",
    "    print(file.read())\n",
    "with open('documents/example_iso.txt', encoding='iso-8859-1') as file:\n",
    "    print(file.read())"
   ]
  },
  {
   "cell_type": "code",
   "execution_count": null,
   "metadata": {},
   "outputs": [],
   "source": [
    "with open('documents/example_utf8.txt') as file:\n",
    "    content = file.read()\n",
    "with open('documents/junk_output_iso.txt', 'w', encoding='iso-8859-1') as file:\n",
    "    file.write(content)\n",
    "with open('documents/junk_output_iso.txt', encoding='iso-8859-1') as file:\n",
    "    print(file.read())"
   ]
  },
  {
   "cell_type": "code",
   "execution_count": 32,
   "metadata": {},
   "outputs": [
    {
     "data": {
      "text/plain": [
       "'20£'"
      ]
     },
     "execution_count": 32,
     "metadata": {},
     "output_type": "execute_result"
    }
   ],
   "source": [
    "from bs4 import UnicodeDammit\n",
    "with open('documents/example_iso.txt', 'rb') as file:\n",
    "    content = file.read()\n",
    "suggestion = UnicodeDammit(content)\n",
    "suggestion.original_encoding\n",
    "suggestion.unicode_markup"
   ]
  },
  {
   "cell_type": "markdown",
   "metadata": {},
   "source": [
    "### Reading CSV files\n",
    "[csv docs](https://docs.python.org/3/library/csv.html)"
   ]
  },
  {
   "cell_type": "code",
   "execution_count": null,
   "metadata": {},
   "outputs": [],
   "source": [
    "import csv\n",
    "with open('documents/top_films.csv') as file:\n",
    "    data = csv.reader('file')\n",
    "    for row in file:\n",
    "        print(row)"
   ]
  },
  {
   "cell_type": "code",
   "execution_count": 66,
   "metadata": {},
   "outputs": [
    {
     "data": {
      "text/plain": [
       "['excel', 'excel-tab', 'unix']"
      ]
     },
     "execution_count": 66,
     "metadata": {},
     "output_type": "execute_result"
    }
   ],
   "source": [
    "#with open('documents/top_films.csv') as file:\n",
    "file =open('documents/top_films.csv')\n",
    "#  treats first line as headers with KEYs\n",
    "data = csv.DictReader(file)\n",
    "structured_data = [row for row in data]\n",
    "structured_data[0]\n",
    "structured_data[0].keys()\n",
    "structured_data[0]['Rank']\n",
    "file.close()"
   ]
  },
  {
   "cell_type": "code",
   "execution_count": null,
   "metadata": {},
   "outputs": [],
   "source": [
    "csv.list_dialects()\n",
    "with open('documents/top_films.csv', newline='') as file:\n",
    "    dialect = csv.Sniffer().sniff(file.read())\n",
    "    \n",
    "with open('documents/top_films.csv', newline='') as file:\n",
    "    reader = csv.reader(file, dialect)\n",
    "    for row in reader:\n",
    "        print(row)"
   ]
  },
  {
   "cell_type": "markdown",
   "metadata": {},
   "source": [
    "### Reading log files\n",
    "From Chapter 1:"
   ]
  },
  {
   "cell_type": "code",
   "execution_count": 80,
   "metadata": {},
   "outputs": [],
   "source": [
    "import parse, delorean\n",
    "from decimal import Decimal\n",
    "\n",
    "class PriceLog(object):\n",
    "    def __init__(self,timestamp,product_id,price):\n",
    "        self.timestamp = timestamp\n",
    "        self.product_id = product_id\n",
    "        self.price = price\n",
    "    def __repr__(self):\n",
    "        return '<PriceLog({}, {}, {})>'.format(self.timestamp,self.product_id,self.price)\n",
    "        \n",
    "    @classmethod\n",
    "    def parse(cls,log):\n",
    "        '''\n",
    "        Parse from a text log with the format\n",
    "            [<Timestamp>] - SALE - PRODUCT: <product id> - PRICE: $<price>\n",
    "        to a PriceLog object\n",
    "        '''\n",
    "        def price(string):\n",
    "            return Decimal(string)\n",
    "        def isodate(string):\n",
    "            return delorean.parse(string)\n",
    "        FORMAT = ('[{timestamp:isodate}] - SALE - PRODUCT: {product:d} - PRICE: ${price:price}')\n",
    "        formats_extra = {'price' : price, 'isodate' : isodate}\n",
    "        result = parse.parse(FORMAT,log,formats_extra)\n",
    "        print('result>>>{}<<<<',result)  # yuri's debug output\n",
    "        return cls(timestamp=result['timestamp'], product_id=result['product'], price=result['price'])"
   ]
  },
  {
   "cell_type": "code",
   "execution_count": 85,
   "metadata": {},
   "outputs": [
    {
     "name": "stdout",
     "output_type": "stream",
     "text": [
      "result>>>{}<<<< <Result () {'timestamp': Delorean(datetime=datetime.datetime(2018, 6, 17, 22, 11, 50, 268396), timezone='UTC'), 'product': 1489, 'price': Decimal('9.99')}>\n",
      "result>>>{}<<<< <Result () {'timestamp': Delorean(datetime=datetime.datetime(2018, 6, 17, 22, 11, 50, 268442), timezone='UTC'), 'product': 4508, 'price': Decimal('5.30')}>\n",
      "result>>>{}<<<< <Result () {'timestamp': Delorean(datetime=datetime.datetime(2018, 6, 17, 22, 11, 50, 268454), timezone='UTC'), 'product': 8597, 'price': Decimal('15.49')}>\n",
      "result>>>{}<<<< <Result () {'timestamp': Delorean(datetime=datetime.datetime(2018, 6, 17, 22, 11, 50, 268461), timezone='UTC'), 'product': 3086, 'price': Decimal('7.05')}>\n",
      "result>>>{}<<<< <Result () {'timestamp': Delorean(datetime=datetime.datetime(2018, 6, 17, 22, 11, 50, 268468), timezone='UTC'), 'product': 1489, 'price': Decimal('9.99')}>\n"
     ]
    },
    {
     "data": {
      "text/plain": [
       "Decimal('47.82')"
      ]
     },
     "execution_count": 85,
     "metadata": {},
     "output_type": "execute_result"
    }
   ],
   "source": [
    "with open('documents/example_logs.log') as file:\n",
    "    logs = [PriceLog.parse(log) for log in file]\n",
    "len(logs)\n",
    "logs[0]\n",
    "total = sum(log.price for log in logs) #tot sales\n",
    "total"
   ]
  },
  {
   "cell_type": "markdown",
   "metadata": {},
   "source": [
    "how many units have been sold of each product_id.  [cound list doc Counter](https://docs.python.org/3/library/collections.html#counter-objects)"
   ]
  },
  {
   "cell_type": "code",
   "execution_count": 86,
   "metadata": {},
   "outputs": [
    {
     "data": {
      "text/plain": [
       "Counter({1489: 2, 4508: 1, 8597: 1, 3086: 1})"
      ]
     },
     "execution_count": 86,
     "metadata": {},
     "output_type": "execute_result"
    }
   ],
   "source": [
    "from collections import Counter\n",
    "counter = Counter(log.product_id for log in logs)\n",
    "counter"
   ]
  },
  {
   "cell_type": "markdown",
   "metadata": {},
   "source": [
    "### Reading file metadata\n",
    "meta -- not data content itself -- `zen_of_python.txt`  [doc](https://docs.python.org/3/library/os.html)"
   ]
  },
  {
   "cell_type": "code",
   "execution_count": 90,
   "metadata": {},
   "outputs": [
    {
     "data": {
      "text/plain": [
       "datetime.datetime(2022, 7, 27, 20, 30, 15, 776877)"
      ]
     },
     "execution_count": 90,
     "metadata": {},
     "output_type": "execute_result"
    }
   ],
   "source": [
    "import os \n",
    "from datetime import datetime\n",
    "stats = os.stat('zen_of_python.txt')\n",
    "stats\n",
    "stats.st_size\n",
    "datetime.fromtimestamp(stats.st_mtime) #modified\n",
    "datetime.fromtimestamp(stats.st_atime) #accessed"
   ]
  },
  {
   "cell_type": "code",
   "execution_count": 92,
   "metadata": {},
   "outputs": [
    {
     "data": {
      "text/plain": [
       "1658979014.5832143"
      ]
     },
     "execution_count": 92,
     "metadata": {},
     "output_type": "execute_result"
    }
   ],
   "source": [
    "#also\n",
    "os.path.getsize('zen_of_python.txt')\n",
    "os.path.getmtime('zen_of_python.txt') #unix fmt\n",
    "os.path.getatime('zen_of_python.txt')"
   ]
  },
  {
   "cell_type": "markdown",
   "metadata": {},
   "source": [
    "### Reading images\n",
    "downloaded dir `images`, requirements pillow (Python Image Lib --changed to 9.0.0 for Python 3.10) and xmltodict. \n",
    "\n",
    "The metadata information in photo files is defined in the EXIF (Exchangeable Image File) format. __[EXIF](https://www.slrphotographyguide.com/what-is-exif-metadata/)__ is a standard for storing information about pictures, including things like what camera took the picture, when it was taken, GPS describing the location, exposure, focal length, color info.\n",
    "\n",
    "JPG files store the EXIF info directly, PNG files store __[XMP](https://www.adobe.com/devnet/xmp.html)__ info, a more generic standard that can contain EXIF data inside\n",
    "\n",
    "Also for GPS cf. ch04-gps_conversion.py"
   ]
  },
  {
   "cell_type": "code",
   "execution_count": null,
   "metadata": {},
   "outputs": [],
   "source": [
    "from PIL import Image\n",
    "from PIL.ExifTags import TAGS, GPSTAGS\n",
    "import xmltodict\n",
    "from ch04_gps_conversion import exif_to_decimal, rdf_to_decimal\n",
    "\n",
    "image1 = Image.open('images/photo-dublin-a1.jpg')\n",
    "image1.height\n",
    "image1.width\n",
    "image1.format\n",
    "\n",
    "exif_info_1 = { TAGS.get(tag,tag) : value    for tag,value in image1._getexif().items()}  # _getexif(), not getexif()ß\n",
    "exif_info_1\n"
   ]
  },
  {
   "cell_type": "code",
   "execution_count": 113,
   "metadata": {},
   "outputs": [
    {
     "data": {
      "text/plain": [
       "1710"
      ]
     },
     "execution_count": 113,
     "metadata": {},
     "output_type": "execute_result"
    }
   ],
   "source": [
    "image2 = Image.open('images/photo-dublin-a2.png')\n",
    "image2.format\n",
    "xmp_info = xmltodict.parse(image2.info['XML:com.adobe.xmp'])\n",
    "\n",
    "rdf_info_2 = xmp_info['x:xmpmeta']['rdf:RDF']['rdf:Description']\n",
    "rdf_info_2['tiff:Model']\n",
    "rdf_info_2['exifEX:LensModel']\n",
    "rdf_info_2['xmp:CreateDate']"
   ]
  },
  {
   "cell_type": "code",
   "execution_count": 127,
   "metadata": {},
   "outputs": [
    {
     "data": {
      "text/plain": [
       "('N53.346905', 'W6.247796666666667')"
      ]
     },
     "execution_count": 127,
     "metadata": {},
     "output_type": "execute_result"
    }
   ],
   "source": [
    "exif_info_1['GPSInfo']\n",
    "gps_info_1 = { GPSTAGS.get(tag,tag) : value   for tag, value in exif_info_1['GPSInfo'].items() }\n",
    "# exif_to_decimal(gps_info_1) -- TypeError?\n",
    "rdf_to_decimal(rdf_info_2)"
   ]
  },
  {
   "cell_type": "code",
   "execution_count": 126,
   "metadata": {},
   "outputs": [
    {
     "data": {
      "text/plain": [
       "('N53.34984166666667', 'W6.260388333333333')"
      ]
     },
     "execution_count": 126,
     "metadata": {},
     "output_type": "execute_result"
    }
   ],
   "source": [
    "image3 = Image.open('images/photo-dublin-b.png')\n",
    "xmp_info = xmltodict.parse(image3.info['XML:com.adobe.xmp'])\n",
    "rdf_info_3 = xmp_info['x:xmpmeta']['rdf:RDF']['rdf:Description']\n",
    "rdf_info_3['xmp:CreateDate']\n",
    "rdf_to_decimal(rdf_info_3)"
   ]
  },
  {
   "cell_type": "markdown",
   "metadata": {},
   "source": [
    "For OCR, need to install __[Tesseract](https://github.com/tesseract-ocr/tesseract)__ and __[pytesseract](https://github.com/madmaze/pytesseract)__\n",
    "\n",
    "Then"
   ]
  },
  {
   "cell_type": "code",
   "execution_count": 130,
   "metadata": {},
   "outputs": [],
   "source": [
    "import pytesseract\n",
    "image_text = Image.open('images/photo-text.jpg')\n",
    "# pytesseract.image_to_string(image_text) -- tesseract not installedß\n"
   ]
  },
  {
   "cell_type": "markdown",
   "metadata": {},
   "source": [
    "OpenCV more powerful than Pillow: __[ABANDONDED openCV Python tutorial](http://opencv-python-tutroals.readthedocs.io/en/latest/py_tutorials/py_tutorials.html)__\n",
    "\n",
    "### Reading PDF files\n",
    "[Lorem Ipsum](https://loremipsum.io), second has password `automate`\n"
   ]
  },
  {
   "cell_type": "code",
   "execution_count": null,
   "metadata": {},
   "outputs": [],
   "source": [
    "from PyPDF2 import PdfFileReader\n",
    "file = open('documents/document-1.pdf', 'rb')\n",
    "doc = PdfFileReader(file)\n",
    "doc.numPages\n",
    "doc.isEncrypted\n",
    "doc.documentInfo\n",
    "doc.pages[0].extractText()\n",
    "doc.pages[1].extractText()"
   ]
  },
  {
   "cell_type": "code",
   "execution_count": 148,
   "metadata": {},
   "outputs": [],
   "source": [
    "file.close()\n",
    "file = open('documents/document-2.pdf', 'rb')\n",
    "doc = PdfFileReader(file)\n",
    "doc.isEncrypted\n",
    "#doc.numPages  #raise error\n",
    "doc.decrypt('automate')\n",
    "doc.numPages\n",
    "doc.pages[0].extractText()\n",
    "file.close()"
   ]
  },
  {
   "cell_type": "markdown",
   "metadata": {},
   "source": [
    "More sofcticated PDF readers \n",
    "* [pdftooppm](https://linux.die.net/man/1/pdftoppm)\n",
    "* [QPDF](http://qpdf.sourceforge.net/files/qpdf-manual.html) with Python bindings [pikepdf](https://pikepdf.readthedocs.io/en/stable/). "
   ]
  },
  {
   "cell_type": "markdown",
   "metadata": {},
   "source": [
    "### Reading Word documents\n",
    "[python-docx](https://python-docx.readthedocs.io/en/latest/)"
   ]
  },
  {
   "cell_type": "code",
   "execution_count": null,
   "metadata": {},
   "outputs": [],
   "source": [
    "import docx\n",
    "doc = docx.Document('documents/document-1.docx')\n",
    "doc.core_properties.title\n",
    "doc.core_properties.keywords\n",
    "doc.core_properties.modified\n",
    "len(doc.paragraphs)"
   ]
  },
  {
   "cell_type": "markdown",
   "metadata": {},
   "source": [
    "Walk through the paragraphs to detect the ones that contain text"
   ]
  },
  {
   "cell_type": "code",
   "execution_count": null,
   "metadata": {},
   "outputs": [],
   "source": [
    "for index, paragraph in enumerate(doc.paragraphs):\n",
    "    if not paragraph.text:\n",
    "        continue\n",
    "    print(index,paragraph.text)"
   ]
  },
  {
   "cell_type": "code",
   "execution_count": 10,
   "metadata": {},
   "outputs": [
    {
     "data": {
      "text/plain": [
       "'A VERY IMPORTANT DOCUMENT'"
      ]
     },
     "execution_count": 10,
     "metadata": {},
     "output_type": "execute_result"
    }
   ],
   "source": [
    "doc.paragraphs[30].text"
   ]
  },
  {
   "cell_type": "markdown",
   "metadata": {},
   "source": [
    "Each of the paragraphs has runs, which are sections of the text with different properties"
   ]
  },
  {
   "cell_type": "code",
   "execution_count": 14,
   "metadata": {},
   "outputs": [
    {
     "data": {
      "text/plain": [
       "['This is an example of a test document that is stored in ',\n",
       " 'Word',\n",
       " ' format',\n",
       " '. It contains some ',\n",
       " 'sentences',\n",
       " ' to describe what it is and it has ',\n",
       " 'lore',\n",
       " 'm',\n",
       " ' ipsum',\n",
       " ' text.']"
      ]
     },
     "execution_count": 14,
     "metadata": {},
     "output_type": "execute_result"
    }
   ],
   "source": [
    "doc.paragraphs[30].runs[0].italic\n",
    "doc.paragraphs[30].runs[0].bold\n",
    "[ run.text for run in doc.paragraphs[48].runs]"
   ]
  },
  {
   "cell_type": "markdown",
   "metadata": {},
   "source": [
    "### Scanning documents for a keyword\n",
    "\n",
    "`ch04-scan.py` searches a word in files"
   ]
  },
  {
   "cell_type": "code",
   "execution_count": 177,
   "metadata": {},
   "outputs": [
    {
     "name": "stdout",
     "output_type": "stream",
     "text": [
      ">>> \"lorem\" found in ./dir/file6.pdf\n",
      ">>> \"lorem\" found in ./dir/subdir/file5.pdf\n",
      ">>> \"lorem\" found in ./documents/document-1.pdf\n",
      ">>> \"lorem\" found in ./documents/document-1.docx\n"
     ]
    }
   ],
   "source": [
    "!python ch04-scan.py -w lorem"
   ]
  }
 ],
 "metadata": {
  "kernelspec": {
   "display_name": "Python 3.10.5 ('.venv': venv)",
   "language": "python",
   "name": "python3"
  },
  "language_info": {
   "codemirror_mode": {
    "name": "ipython",
    "version": 3
   },
   "file_extension": ".py",
   "mimetype": "text/x-python",
   "name": "python",
   "nbconvert_exporter": "python",
   "pygments_lexer": "ipython3",
   "version": "3.10.5"
  },
  "orig_nbformat": 4,
  "vscode": {
   "interpreter": {
    "hash": "b9c68485fc2ca22e89981470a9b901ee6a2b3827ae489e275685bf84f6ed5b5a"
   }
  }
 },
 "nbformat": 4,
 "nbformat_minor": 2
}

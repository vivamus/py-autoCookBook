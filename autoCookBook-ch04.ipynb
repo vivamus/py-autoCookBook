{
 "cells": [
  {
   "cell_type": "markdown",
   "metadata": {},
   "source": [
    "# Chapter 4. Searching and Reading Local Files\n",
    "### Crawling and searching directories (p. 114)\n",
    "Download [dir](https://github.com/PacktPublishing/Python-Automation-Cookbook-Second-Edition/tree/master/Chapter04/documents/dir) using DownGit.   [os.path doc](https://docs.python.org/3/library/os.path.html) [OO high-level os.pathlib doc](https://docs.python.org/3/librarpathlib.html)"
   ]
  },
  {
   "cell_type": "code",
   "execution_count": 12,
   "metadata": {},
   "outputs": [
    {
     "name": "stdout",
     "output_type": "stream",
     "text": [
      "     root=dir\n",
      "file2.txt dir/file2.txt\n",
      "ODD===> file1.txt dir/file1.txt\n",
      "PDF===> file6.pdf dir/file6.pdf\n",
      "     root=dir/subdir\n",
      "ODD===> file3.txt dir/subdir/file3.txt\n",
      "file4.txt dir/subdir/file4.txt\n",
      "PDF===> ODD===> file5.pdf dir/subdir/file5.pdf\n"
     ]
    }
   ],
   "source": [
    "import os, re\n",
    "for root, dirs,files in os.walk('dir'):\n",
    "    print(f'     root={root}')\n",
    "    for file in files:\n",
    "        if file.endswith('.pdf'):\n",
    "            print('PDF===>',end=' ')\n",
    "        if re.search(r'[13579]', file):\n",
    "            print('ODD===>',end=' ')\n",
    "        full_path = os.path.join(root,file)\n",
    "        print(file, full_path)"
   ]
  },
  {
   "cell_type": "markdown",
   "metadata": {},
   "source": [
    "### Reading text files"
   ]
  }
 ],
 "metadata": {
  "kernelspec": {
   "display_name": "Python 3.10.5 ('.venv': venv)",
   "language": "python",
   "name": "python3"
  },
  "language_info": {
   "codemirror_mode": {
    "name": "ipython",
    "version": 3
   },
   "file_extension": ".py",
   "mimetype": "text/x-python",
   "name": "python",
   "nbconvert_exporter": "python",
   "pygments_lexer": "ipython3",
   "version": "3.10.5"
  },
  "orig_nbformat": 4,
  "vscode": {
   "interpreter": {
    "hash": "b9c68485fc2ca22e89981470a9b901ee6a2b3827ae489e275685bf84f6ed5b5a"
   }
  }
 },
 "nbformat": 4,
 "nbformat_minor": 2
}

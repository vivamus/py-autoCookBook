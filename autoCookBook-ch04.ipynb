{
 "cells": [
  {
   "cell_type": "markdown",
   "metadata": {},
   "source": [
    "# Chapter 4. Searching and Reading Local Files\n",
    "### Crawling and searching directories (p. 114)\n",
    "Download [dir](https://github.com/PacktPublishing/Python-Automation-Cookbook-Second-Edition/tree/master/Chapter04/documents/dir) using DownGit.   [os.path doc](https://docs.python.org/3/library/os.path.html) [OO high-level os.pathlib doc](https://docs.python.org/3/librarpathlib.html)"
   ]
  },
  {
   "cell_type": "code",
   "execution_count": 12,
   "metadata": {},
   "outputs": [
    {
     "name": "stdout",
     "output_type": "stream",
     "text": [
      "     root=dir\n",
      "file2.txt dir/file2.txt\n",
      "ODD===> file1.txt dir/file1.txt\n",
      "PDF===> file6.pdf dir/file6.pdf\n",
      "     root=dir/subdir\n",
      "ODD===> file3.txt dir/subdir/file3.txt\n",
      "file4.txt dir/subdir/file4.txt\n",
      "PDF===> ODD===> file5.pdf dir/subdir/file5.pdf\n"
     ]
    }
   ],
   "source": [
    "import os, re\n",
    "for root, dirs,files in os.walk('dir'):\n",
    "    print(f'     root={root}')\n",
    "    for file in files:\n",
    "        if file.endswith('.pdf'):\n",
    "            print('PDF===>',end=' ')\n",
    "        if re.search(r'[13579]', file):\n",
    "            print('ODD===>',end=' ')\n",
    "        full_path = os.path.join(root,file)\n",
    "        print(file, full_path)"
   ]
  },
  {
   "cell_type": "markdown",
   "metadata": {},
   "source": [
    "### Reading text files (p. 117)\n",
    "downloaded [zen_of_python.txt](https://github.com/PacktPublishing/Python-Automation-Cookbook-Second-Edition/blob/master/Chapter04/documents/zen_of_python.txt)"
   ]
  },
  {
   "cell_type": "code",
   "execution_count": 20,
   "metadata": {},
   "outputs": [
    {
     "name": "stdout",
     "output_type": "stream",
     "text": [
      "Errors should never pass silently.\n",
      "\n",
      "There should be one-- and preferably only one --obvious way to do it.\n",
      "\n",
      "Although that way may not be obvious at first unless you're Dutch.\n",
      "\n"
     ]
    }
   ],
   "source": [
    "with open('zen_of_python.txt') as file:\n",
    "    for line in file:\n",
    "        if 'should' in line.lower():\n",
    "            print(line) \n",
    "        if 'dutch' in line.lower():\n",
    "            print(line)\n",
    "            break"
   ]
  },
  {
   "cell_type": "markdown",
   "metadata": {},
   "source": [
    "### Dealing with encodings (p. 120)\n",
    "downloaded documents dir. [Encoding aliases](https://docs.python.org/3/library/codecs.html#standard-encodings)"
   ]
  },
  {
   "cell_type": "code",
   "execution_count": null,
   "metadata": {},
   "outputs": [],
   "source": [
    "with open('documents/example_utf8.txt') as file:\n",
    "    print(file.read())\n",
    "with open('documents/example_iso.txt', encoding='iso-8859-1') as file:\n",
    "    print(file.read())"
   ]
  },
  {
   "cell_type": "code",
   "execution_count": null,
   "metadata": {},
   "outputs": [],
   "source": [
    "with open('documents/example_utf8.txt') as file:\n",
    "    content = file.read()\n",
    "with open('documents/junk_output_iso.txt', 'w', encoding='iso-8859-1') as file:\n",
    "    file.write(content)\n",
    "with open('documents/junk_output_iso.txt', encoding='iso-8859-1') as file:\n",
    "    print(file.read())"
   ]
  },
  {
   "cell_type": "code",
   "execution_count": 32,
   "metadata": {},
   "outputs": [
    {
     "data": {
      "text/plain": [
       "'20£'"
      ]
     },
     "execution_count": 32,
     "metadata": {},
     "output_type": "execute_result"
    }
   ],
   "source": [
    "from bs4 import UnicodeDammit\n",
    "with open('documents/example_iso.txt', 'rb') as file:\n",
    "    content = file.read()\n",
    "suggestion = UnicodeDammit(content)\n",
    "suggestion.original_encoding\n",
    "suggestion.unicode_markup"
   ]
  },
  {
   "cell_type": "markdown",
   "metadata": {},
   "source": [
    "### Reading CSV files\n",
    "[csv docs](https://docs.python.org/3/library/csv.html)"
   ]
  },
  {
   "cell_type": "code",
   "execution_count": null,
   "metadata": {},
   "outputs": [],
   "source": [
    "import csv\n",
    "with open('documents/top_films.csv') as file:\n",
    "    data = csv.reader('file')\n",
    "    for row in file:\n",
    "        print(row)"
   ]
  },
  {
   "cell_type": "code",
   "execution_count": 66,
   "metadata": {},
   "outputs": [
    {
     "data": {
      "text/plain": [
       "['excel', 'excel-tab', 'unix']"
      ]
     },
     "execution_count": 66,
     "metadata": {},
     "output_type": "execute_result"
    }
   ],
   "source": [
    "#with open('documents/top_films.csv') as file:\n",
    "file =open('documents/top_films.csv')\n",
    "#  treats first line as headers with KEYs\n",
    "data = csv.DictReader(file)\n",
    "structured_data = [row for row in data]\n",
    "structured_data[0]\n",
    "structured_data[0].keys()\n",
    "structured_data[0]['Rank']\n",
    "file.close()"
   ]
  },
  {
   "cell_type": "code",
   "execution_count": null,
   "metadata": {},
   "outputs": [],
   "source": [
    "csv.list_dialects()\n",
    "with open('documents/top_films.csv', newline='') as file:\n",
    "    dialect = csv.Sniffer().sniff(file.read())\n",
    "    \n",
    "with open('documents/top_films.csv', newline='') as file:\n",
    "    reader = csv.reader(file, dialect)\n",
    "    for row in reader:\n",
    "        print(row)"
   ]
  },
  {
   "cell_type": "markdown",
   "metadata": {},
   "source": [
    "### Reading log files\n",
    "From Chapter 1:"
   ]
  },
  {
   "cell_type": "code",
   "execution_count": 80,
   "metadata": {},
   "outputs": [],
   "source": [
    "import parse, delorean\n",
    "from decimal import Decimal\n",
    "\n",
    "class PriceLog(object):\n",
    "    def __init__(self,timestamp,product_id,price):\n",
    "        self.timestamp = timestamp\n",
    "        self.product_id = product_id\n",
    "        self.price = price\n",
    "    def __repr__(self):\n",
    "        return '<PriceLog({}, {}, {})>'.format(self.timestamp,self.product_id,self.price)\n",
    "        \n",
    "    @classmethod\n",
    "    def parse(cls,log):\n",
    "        '''\n",
    "        Parse from a text log with the format\n",
    "            [<Timestamp>] - SALE - PRODUCT: <product id> - PRICE: $<price>\n",
    "        to a PriceLog object\n",
    "        '''\n",
    "        def price(string):\n",
    "            return Decimal(string)\n",
    "        def isodate(string):\n",
    "            return delorean.parse(string)\n",
    "        FORMAT = ('[{timestamp:isodate}] - SALE - PRODUCT: {product:d} - PRICE: ${price:price}')\n",
    "        formats_extra = {'price' : price, 'isodate' : isodate}\n",
    "        result = parse.parse(FORMAT,log,formats_extra)\n",
    "        print('result>>>{}<<<<',result)  # yuri's debug output\n",
    "        return cls(timestamp=result['timestamp'], product_id=result['product'], price=result['price'])"
   ]
  },
  {
   "cell_type": "code",
   "execution_count": 85,
   "metadata": {},
   "outputs": [
    {
     "name": "stdout",
     "output_type": "stream",
     "text": [
      "result>>>{}<<<< <Result () {'timestamp': Delorean(datetime=datetime.datetime(2018, 6, 17, 22, 11, 50, 268396), timezone='UTC'), 'product': 1489, 'price': Decimal('9.99')}>\n",
      "result>>>{}<<<< <Result () {'timestamp': Delorean(datetime=datetime.datetime(2018, 6, 17, 22, 11, 50, 268442), timezone='UTC'), 'product': 4508, 'price': Decimal('5.30')}>\n",
      "result>>>{}<<<< <Result () {'timestamp': Delorean(datetime=datetime.datetime(2018, 6, 17, 22, 11, 50, 268454), timezone='UTC'), 'product': 8597, 'price': Decimal('15.49')}>\n",
      "result>>>{}<<<< <Result () {'timestamp': Delorean(datetime=datetime.datetime(2018, 6, 17, 22, 11, 50, 268461), timezone='UTC'), 'product': 3086, 'price': Decimal('7.05')}>\n",
      "result>>>{}<<<< <Result () {'timestamp': Delorean(datetime=datetime.datetime(2018, 6, 17, 22, 11, 50, 268468), timezone='UTC'), 'product': 1489, 'price': Decimal('9.99')}>\n"
     ]
    },
    {
     "data": {
      "text/plain": [
       "Decimal('47.82')"
      ]
     },
     "execution_count": 85,
     "metadata": {},
     "output_type": "execute_result"
    }
   ],
   "source": [
    "with open('documents/example_logs.log') as file:\n",
    "    logs = [PriceLog.parse(log) for log in file]\n",
    "len(logs)\n",
    "logs[0]\n",
    "total = sum(log.price for log in logs) #tot sales\n",
    "total"
   ]
  },
  {
   "cell_type": "markdown",
   "metadata": {},
   "source": [
    "how many units have been sold of each product_id.  [cound list doc Counter](https://docs.python.org/3/library/collections.html#counter-objects)"
   ]
  },
  {
   "cell_type": "code",
   "execution_count": 86,
   "metadata": {},
   "outputs": [
    {
     "data": {
      "text/plain": [
       "Counter({1489: 2, 4508: 1, 8597: 1, 3086: 1})"
      ]
     },
     "execution_count": 86,
     "metadata": {},
     "output_type": "execute_result"
    }
   ],
   "source": [
    "from collections import Counter\n",
    "counter = Counter(log.product_id for log in logs)\n",
    "counter"
   ]
  },
  {
   "cell_type": "markdown",
   "metadata": {},
   "source": [
    "### Reading file metadata\n",
    "meta -- not data content itself -- `zen_of_python.txt`  [doc](https://docs.python.org/3/library/os.html)"
   ]
  },
  {
   "cell_type": "code",
   "execution_count": 90,
   "metadata": {},
   "outputs": [
    {
     "data": {
      "text/plain": [
       "datetime.datetime(2022, 7, 27, 20, 30, 15, 776877)"
      ]
     },
     "execution_count": 90,
     "metadata": {},
     "output_type": "execute_result"
    }
   ],
   "source": [
    "import os \n",
    "from datetime import datetime\n",
    "stats = os.stat('zen_of_python.txt')\n",
    "stats\n",
    "stats.st_size\n",
    "datetime.fromtimestamp(stats.st_mtime) #modified\n",
    "datetime.fromtimestamp(stats.st_atime) #accessed"
   ]
  },
  {
   "cell_type": "code",
   "execution_count": 92,
   "metadata": {},
   "outputs": [
    {
     "data": {
      "text/plain": [
       "1658979014.5832143"
      ]
     },
     "execution_count": 92,
     "metadata": {},
     "output_type": "execute_result"
    }
   ],
   "source": [
    "#also\n",
    "os.path.getsize('zen_of_python.txt')\n",
    "os.path.getmtime('zen_of_python.txt') #unix fmt\n",
    "os.path.getatime('zen_of_python.txt')"
   ]
  },
  {
   "cell_type": "markdown",
   "metadata": {},
   "source": [
    "### Reading images\n",
    "downloaded dir `images`, requirements pillow (Python Image Lib --changed to 9.0.0 for Python 3.10) and xmltodict. \n",
    "\n",
    "The metadata information in photo files is defined in the EXIF (Exchangeable Image File) format. __[EXIF](https://www.slrphotographyguide.com/what-is-exif-metadata/)__ is a standard for storing information about pictures, including things like what camera took the picture, when it was taken, GPS describing the location, exposure, focal length, color info.\n",
    "\n",
    "JPG files store the EXIF info directly, PNG files store __[XMP](https://www.adobe.com/devnet/xmp.html)__ info, a more generic standard that can contain EXIF data inside\n",
    "\n",
    "Also for GPS cf. ch04-gps_conversion.py"
   ]
  },
  {
   "cell_type": "code",
   "execution_count": 119,
   "metadata": {},
   "outputs": [
    {
     "data": {
      "text/plain": [
       "{'TileWidth': 512,\n",
       " 'TileLength': 512,\n",
       " 'GPSInfo': {1: 'N',\n",
       "  2: (53.0, 20.0, 48.86),\n",
       "  3: 'W',\n",
       "  4: (6.0, 14.0, 52.07),\n",
       "  5: b'\\x00',\n",
       "  6: 5.0,\n",
       "  7: (11.0, 7.0, 55.0),\n",
       "  12: 'K',\n",
       "  13: 0.20771699692994697,\n",
       "  16: 'T',\n",
       "  17: 90.6789667896679,\n",
       "  23: 'T',\n",
       "  24: 90.6789667896679,\n",
       "  29: '2018:04:21',\n",
       "  31: 4.0},\n",
       " 'ResolutionUnit': 2,\n",
       " 'ExifOffset': 222,\n",
       " 'Make': 'Apple',\n",
       " 'Model': 'iPhone X',\n",
       " 'Software': 'Photos 3.0',\n",
       " 'Orientation': 1,\n",
       " 'DateTime': '2018:04:21 12:07:55',\n",
       " 'XResolution': 72.0,\n",
       " 'YResolution': 72.0,\n",
       " 'ExifVersion': b'0221',\n",
       " 'ComponentsConfiguration': b'\\x01\\x02\\x03\\x00',\n",
       " 'ShutterSpeedValue': 11.092364532019705,\n",
       " 'DateTimeOriginal': '2018:04:21 12:07:55',\n",
       " 'DateTimeDigitized': '2018:04:21 12:07:55',\n",
       " 'ApertureValue': 1.6959937156323646,\n",
       " 'BrightnessValue': 10.59212376933896,\n",
       " 'ExposureBiasValue': 0.0,\n",
       " 'MeteringMode': 5,\n",
       " 'Flash': 16,\n",
       " 'FocalLength': 4.0,\n",
       " 'ExifImageWidth': 4032,\n",
       " 'ExifImageHeight': 3024,\n",
       " 'FocalLengthIn35mmFilm': 28,\n",
       " 'SceneCaptureType': 0,\n",
       " 'SubsecTimeOriginal': '695',\n",
       " 'SubsecTimeDigitized': '695',\n",
       " 'SubjectLocation': (2015, 1511, 2217, 1330),\n",
       " 'SensingMethod': 2,\n",
       " 'ExposureTime': 0.0004580852038479157,\n",
       " 'FNumber': 1.8,\n",
       " 'SceneType': b'\\x01',\n",
       " 'ExposureProgram': 2,\n",
       " 'ISOSpeedRatings': 20,\n",
       " 'ExposureMode': 0,\n",
       " 'FlashPixVersion': b'0100',\n",
       " 'WhiteBalance': 0,\n",
       " 'LensSpecification': (4.0, 6.0, 1.8, 2.4),\n",
       " 'LensMake': 'Apple',\n",
       " 'LensModel': 'iPhone X back dual camera 4mm f/1.8',\n",
       " 'MakerNote': b\"Apple iOS\\x00\\x00\\x01MM\\x00\\x11\\x00\\x01\\x00\\t\\x00\\x00\\x00\\x01\\x00\\x00\\x00\\t\\x00\\x02\\x00\\x07\\x00\\x00\\x02.\\x00\\x00\\x00\\xe0\\x00\\x03\\x00\\x07\\x00\\x00\\x00h\\x00\\x00\\x03\\x0e\\x00\\x04\\x00\\t\\x00\\x00\\x00\\x01\\x00\\x00\\x00\\x01\\x00\\x05\\x00\\t\\x00\\x00\\x00\\x01\\x00\\x00\\x00\\xc2\\x00\\x06\\x00\\t\\x00\\x00\\x00\\x01\\x00\\x00\\x00\\xc8\\x00\\x07\\x00\\t\\x00\\x00\\x00\\x01\\x00\\x00\\x00\\x01\\x00\\x08\\x00\\n\\x00\\x00\\x00\\x03\\x00\\x00\\x03v\\x00\\x0c\\x00\\n\\x00\\x00\\x00\\x02\\x00\\x00\\x03\\x8e\\x00\\r\\x00\\t\\x00\\x00\\x00\\x01\\x00\\x00\\x00\\x0e\\x00\\x0e\\x00\\t\\x00\\x00\\x00\\x01\\x00\\x00\\x00\\x04\\x00\\x10\\x00\\t\\x00\\x00\\x00\\x01\\x00\\x00\\x00\\x01\\x00\\x14\\x00\\t\\x00\\x00\\x00\\x01\\x00\\x00\\x00\\x01\\x00\\x17\\x00\\t\\x00\\x00\\x00\\x01\\x00\\x00 \\x00\\x00\\x19\\x00\\t\\x00\\x00\\x00\\x01\\x00\\x00\\x00\\x00\\x00\\x1a\\x00\\x02\\x00\\x00\\x00\\x06\\x00\\x00\\x03\\x9e\\x00\\x1f\\x00\\t\\x00\\x00\\x00\\x01\\x00\\x00\\x00\\x00\\x00\\x00\\x00\\x00bplist00O\\x11\\x02\\x00\\x8e\\x008\\x00>\\x00A\\x00\\x8c\\x00\\x96\\x00\\x82\\x005\\x000\\x002\\x001\\x00.\\x004\\x00<\\x006\\x003\\x00\\x8d\\x00P\\x00\\x9a\\x00\\x81\\x00\\x9f\\x00\\x8b\\x00C\\x009\\x00<\\x007\\x007\\x006\\x00=\\x00>\\x005\\x005\\x00\\x8f\\x00,\\x00\\xa7\\x00\\x9f\\x00\\x8f\\x00S\\x00F\\x00I\\x00A\\x00>\\x009\\x00?\\x00@\\x00K\\x00C\\x00<\\x00\\x82\\x003\\x00\\x99\\x00\\x92\\x00p\\x00[\\x00S\\x00L\\x00M\\x00H\\x00F\\x00C\\x00L\\x00S\\x00J\\x00A\\x00\\x7f\\x00q\\x00\\xa1\\x00v\\x00o\\x00c\\x00]\\x00V\\x00P\\x00Q\\x00L\\x00L\\x00W\\x00_\\x00Z\\x00E\\x00u\\x00t\\x00\\x8a\\x00x\\x00n\\x00g\\x00a\\x00^\\x00Y\\x00W\\x00M\\x00O\\x00^\\x00o\\x00n\\x00T\\x00@\\x00O\\x00\\x88\\x00p\\x00m\\x00i\\x00e\\x00j\\x00e\\x00]\\x00\\x86\\x00]\\x00|\\x00\\x89\\x00\\xa5\\x00\\x8e\\x00(\\x00d\\x00\\x9b\\x01v\\x01R\\x01p\\x00l\\x00\\xd2\\x00x\\x00y\\x00Y\\x00\\xac\\x00\\xea\\x00I\\x01\\x07\\x01?\\x00\\xad\\x00h\\x01\\n\\x02\\xea\\x01\\xd6\\x01\\xce\\x01\\x80\\x01\\x07\\x01\\xc2\\x00\\x07\\x01\\xb1\\x00\\x08\\x01q\\x01\\xfc\\x01q\\x01P\\x00\\x86\\x01\\xe5\\x01\\xd2\\x01\\xbd\\x01\\xac\\x01\\x9d\\x01\\x8f\\x01\\x82\\x01w\\x01n\\x01]\\x01P\\x01p\\x01\\x9a\\x01h\\x01K\\x01v\\x01\\x9d\\x01\\x99\\x01\\x87\\x01y\\x01m\\x01b\\x01X\\x01N\\x01E\\x01=\\x017\\x015\\x014\\x013\\x010\\x01\\xf3\\x00s\\x01t\\x01d\\x01V\\x01H\\x01<\\x011\\x01(\\x01 \\x01\\x19\\x01\\x16\\x01\\x14\\x01\\x13\\x01\\x11\\x01\\x0f\\x01r\\x01f\\x01W\\x01F\\x016\\x01&\\x01\\x1b\\x01\\x12\\x01\\x0b\\x01\\x04\\x01\\xff\\x00\\xfc\\x00\\xfa\\x00\\xf8\\x00\\xf6\\x00\\xf4\\x00W\\x01H\\x01<\\x01*\\x01\\x1a\\x01\\x0e\\x01\\x04\\x01\\xfd\\x00\\xf6\\x00\\xef\\x00\\xea\\x00\\xe7\\x00\\xe4\\x00\\xe2\\x00\\xe0\\x00\\xde\\x00@\\x012\\x01$\\x01\\x15\\x01\\x08\\x01\\xfd\\x00\\xf3\\x00\\xeb\\x00\\xe4\\x00\\xde\\x00\\xd9\\x00\\xd5\\x00\\xd3\\x00\\xd0\\x00\\xcd\\x00\\xcc\\x00,\\x01\\x1e\\x01\\x12\\x01\\x05\\x01\\xfa\\x00\\xef\\x00\\xe5\\x00\\xdd\\x00\\xd6\\x00\\xcf\\x00\\xcb\\x00\\xc7\\x00\\xc4\\x00\\xc1\\x00\\xbe\\x00\\xbd\\x00\\x00\\x08\\x00\\x00\\x00\\x00\\x00\\x00\\x02\\x01\\x00\\x00\\x00\\x00\\x00\\x00\\x00\\x01\\x00\\x00\\x00\\x00\\x00\\x00\\x00\\x00\\x00\\x00\\x00\\x00\\x00\\x00\\x02\\x0cbplist00\\xd4\\x01\\x02\\x03\\x04\\x05\\x06\\x07\\x08UflagsUvalueYtimescaleUepoch\\x10\\x01\\x13\\x00\\x06\\xab!\\x86\\xa9\\x01\\x18\\x12;\\x9a\\xca\\x00\\x10\\x00\\x08\\x11\\x17\\x1d'-/8=\\x00\\x00\\x00\\x00\\x00\\x00\\x01\\x01\\x00\\x00\\x00\\x00\\x00\\x00\\x00\\t\\x00\\x00\\x00\\x00\\x00\\x00\\x00\\x00\\x00\\x00\\x00\\x00\\x00\\x00\\x00?\\x00\\x00\\x02M\\x00\\x00\\x02L\\x00\\x00\\x01?\\x00\\x00Nt\\x00\\x00\\r\\x13\\x00\\x00\\x99O\\x00\\x00\\x07u\\x00\\x00\\x00\\x80\\x00\\x002\\r\\x00\\x00\\x01\\x00q825s\\x00\"}"
      ]
     },
     "execution_count": 119,
     "metadata": {},
     "output_type": "execute_result"
    }
   ],
   "source": [
    "from PIL import Image\n",
    "from PIL.ExifTags import TAGS, GPSTAGS\n",
    "import xmltodict\n",
    "from ch04_gps_conversion import exif_to_decimal, rdf_to_decimal\n",
    "\n",
    "image1 = Image.open('images/photo-dublin-a1.jpg')\n",
    "image1.height\n",
    "image1.width\n",
    "image1.format\n",
    "\n",
    "exif_info_1 = { TAGS.get(tag,tag) : value    for tag,value in image1._getexif().items()}  # _getexif(), not getexif()ß\n",
    "exif_info_1\n"
   ]
  },
  {
   "cell_type": "code",
   "execution_count": 113,
   "metadata": {},
   "outputs": [
    {
     "data": {
      "text/plain": [
       "1710"
      ]
     },
     "execution_count": 113,
     "metadata": {},
     "output_type": "execute_result"
    }
   ],
   "source": [
    "image2 = Image.open('images/photo-dublin-a2.png')\n",
    "image2.format\n",
    "xmp_info = xmltodict.parse(image2.info['XML:com.adobe.xmp'])\n",
    "\n",
    "rdf_info_2 = xmp_info['x:xmpmeta']['rdf:RDF']['rdf:Description']\n",
    "rdf_info_2['tiff:Model']\n",
    "rdf_info_2['exifEX:LensModel']\n",
    "rdf_info_2['xmp:CreateDate']"
   ]
  },
  {
   "cell_type": "code",
   "execution_count": 127,
   "metadata": {},
   "outputs": [
    {
     "data": {
      "text/plain": [
       "('N53.346905', 'W6.247796666666667')"
      ]
     },
     "execution_count": 127,
     "metadata": {},
     "output_type": "execute_result"
    }
   ],
   "source": [
    "exif_info_1['GPSInfo']\n",
    "gps_info_1 = { GPSTAGS.get(tag,tag) : value   for tag, value in exif_info_1['GPSInfo'].items() }\n",
    "# exif_to_decimal(gps_info_1) -- TypeError?\n",
    "rdf_to_decimal(rdf_info_2)"
   ]
  },
  {
   "cell_type": "code",
   "execution_count": 126,
   "metadata": {},
   "outputs": [
    {
     "data": {
      "text/plain": [
       "('N53.34984166666667', 'W6.260388333333333')"
      ]
     },
     "execution_count": 126,
     "metadata": {},
     "output_type": "execute_result"
    }
   ],
   "source": [
    "image3 = Image.open('images/photo-dublin-b.png')\n",
    "xmp_info = xmltodict.parse(image3.info['XML:com.adobe.xmp'])\n",
    "rdf_info_3 = xmp_info['x:xmpmeta']['rdf:RDF']['rdf:Description']\n",
    "rdf_info_3['xmp:CreateDate']\n",
    "rdf_to_decimal(rdf_info_3)"
   ]
  },
  {
   "cell_type": "markdown",
   "metadata": {},
   "source": [
    "For OCR, need to install __[Tesseract](https://github.com/tesseract-ocr/tessdoc)__ and pytesseract"
   ]
  }
 ],
 "metadata": {
  "kernelspec": {
   "display_name": "Python 3.10.5 ('.venv': venv)",
   "language": "python",
   "name": "python3"
  },
  "language_info": {
   "codemirror_mode": {
    "name": "ipython",
    "version": 3
   },
   "file_extension": ".py",
   "mimetype": "text/x-python",
   "name": "python",
   "nbconvert_exporter": "python",
   "pygments_lexer": "ipython3",
   "version": "3.10.5"
  },
  "orig_nbformat": 4,
  "vscode": {
   "interpreter": {
    "hash": "b9c68485fc2ca22e89981470a9b901ee6a2b3827ae489e275685bf84f6ed5b5a"
   }
  }
 },
 "nbformat": 4,
 "nbformat_minor": 2
}

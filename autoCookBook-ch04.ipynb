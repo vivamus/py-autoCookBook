{
 "cells": [
  {
   "cell_type": "markdown",
   "metadata": {},
   "source": [
    "# Chapter 4. Searching and Reading Local Files\n",
    "### Crawling and searching directories (p. 114)\n",
    "Download [dir](https://github.com/PacktPublishing/Python-Automation-Cookbook-Second-Edition/tree/master/Chapter04/documents/dir) using DownGit.   [os.path doc](https://docs.python.org/3/library/os.path.html) [OO high-level os.pathlib doc](https://docs.python.org/3/librarpathlib.html)"
   ]
  },
  {
   "cell_type": "code",
   "execution_count": 12,
   "metadata": {},
   "outputs": [
    {
     "name": "stdout",
     "output_type": "stream",
     "text": [
      "     root=dir\n",
      "file2.txt dir/file2.txt\n",
      "ODD===> file1.txt dir/file1.txt\n",
      "PDF===> file6.pdf dir/file6.pdf\n",
      "     root=dir/subdir\n",
      "ODD===> file3.txt dir/subdir/file3.txt\n",
      "file4.txt dir/subdir/file4.txt\n",
      "PDF===> ODD===> file5.pdf dir/subdir/file5.pdf\n"
     ]
    }
   ],
   "source": [
    "import os, re\n",
    "for root, dirs,files in os.walk('dir'):\n",
    "    print(f'     root={root}')\n",
    "    for file in files:\n",
    "        if file.endswith('.pdf'):\n",
    "            print('PDF===>',end=' ')\n",
    "        if re.search(r'[13579]', file):\n",
    "            print('ODD===>',end=' ')\n",
    "        full_path = os.path.join(root,file)\n",
    "        print(file, full_path)"
   ]
  },
  {
   "cell_type": "markdown",
   "metadata": {},
   "source": [
    "### Reading text files (p. 117)\n",
    "downloaded [zen_of_python.txt](https://github.com/PacktPublishing/Python-Automation-Cookbook-Second-Edition/blob/master/Chapter04/documents/zen_of_python.txt)"
   ]
  },
  {
   "cell_type": "code",
   "execution_count": 20,
   "metadata": {},
   "outputs": [
    {
     "name": "stdout",
     "output_type": "stream",
     "text": [
      "Errors should never pass silently.\n",
      "\n",
      "There should be one-- and preferably only one --obvious way to do it.\n",
      "\n",
      "Although that way may not be obvious at first unless you're Dutch.\n",
      "\n"
     ]
    }
   ],
   "source": [
    "with open('zen_of_python.txt') as file:\n",
    "    for line in file:\n",
    "        if 'should' in line.lower():\n",
    "            print(line) \n",
    "        if 'dutch' in line.lower():\n",
    "            print(line)\n",
    "            break"
   ]
  },
  {
   "cell_type": "markdown",
   "metadata": {},
   "source": [
    "### Dealing with encodings (p. 120)\n",
    "downloaded documents dir. [Encoding aliases](https://docs.python.org/3/library/codecs.html#standard-encodings)"
   ]
  },
  {
   "cell_type": "code",
   "execution_count": null,
   "metadata": {},
   "outputs": [],
   "source": [
    "with open('documents/example_utf8.txt') as file:\n",
    "    print(file.read())\n",
    "with open('documents/example_iso.txt', encoding='iso-8859-1') as file:\n",
    "    print(file.read())"
   ]
  },
  {
   "cell_type": "code",
   "execution_count": null,
   "metadata": {},
   "outputs": [],
   "source": [
    "with open('documents/example_utf8.txt') as file:\n",
    "    content = file.read()\n",
    "with open('documents/junk_output_iso.txt', 'w', encoding='iso-8859-1') as file:\n",
    "    file.write(content)\n",
    "with open('documents/junk_output_iso.txt', encoding='iso-8859-1') as file:\n",
    "    print(file.read())"
   ]
  },
  {
   "cell_type": "code",
   "execution_count": 32,
   "metadata": {},
   "outputs": [
    {
     "data": {
      "text/plain": [
       "'20£'"
      ]
     },
     "execution_count": 32,
     "metadata": {},
     "output_type": "execute_result"
    }
   ],
   "source": [
    "from bs4 import UnicodeDammit\n",
    "with open('documents/example_iso.txt', 'rb') as file:\n",
    "    content = file.read()\n",
    "suggestion = UnicodeDammit(content)\n",
    "suggestion.original_encoding\n",
    "suggestion.unicode_markup"
   ]
  },
  {
   "cell_type": "markdown",
   "metadata": {},
   "source": [
    "### Reading CSV files"
   ]
  },
  {
   "cell_type": "code",
   "execution_count": 33,
   "metadata": {},
   "outputs": [
    {
     "name": "stdout",
     "output_type": "stream",
     "text": [
      "Rank,\"Admissions\n",
      "\n",
      "(millions)\",Title (year) (studio),Director(s)\n",
      "\n",
      "1,225.7,Gone With the Wind (1939) (MGM),\"Victor Fleming, George Cukor, Sam Wood\"\n",
      "\n",
      "2,194.4,Star Wars (Ep. IV: A New Hope) (1977) (Fox),George Lucas\n",
      "\n",
      "3,161.0,ET: The Extra-Terrestrial (1982) (Univ),Steven Spielberg\n",
      "\n",
      "4,156.4,The Sound of Music (1965) (Fox),Robert Wise\n",
      "\n",
      "5,130.0,The Ten Commandments (1956) (Para),Cecil B. DeMille\n",
      "\n",
      "6,128.4,Titanic (1997) (Fox),James Cameron\n",
      "\n",
      "7,126.3,Snow White and the Seven Dwarfs (1937) (BV),David Hand\n",
      "\n",
      "8,120.7,Jaws (1975) (Univ),Steven Spielberg\n",
      "\n",
      "9,120.1,Doctor Zhivago (1965) (MGM),David Lean\n",
      "\n",
      "10,118.9,The Lion King (1994) (BV),\"Roger Allers, Rob Minkoff\"\n"
     ]
    }
   ],
   "source": [
    "import csv\n",
    "with open('documents/top_films.csv') as file:\n",
    "    data = csv.reader('file')\n",
    "    for row in file:\n",
    "        print(row)"
   ]
  }
 ],
 "metadata": {
  "kernelspec": {
   "display_name": "Python 3.10.5 ('.venv': venv)",
   "language": "python",
   "name": "python3"
  },
  "language_info": {
   "codemirror_mode": {
    "name": "ipython",
    "version": 3
   },
   "file_extension": ".py",
   "mimetype": "text/x-python",
   "name": "python",
   "nbconvert_exporter": "python",
   "pygments_lexer": "ipython3",
   "version": "3.10.5"
  },
  "orig_nbformat": 4,
  "vscode": {
   "interpreter": {
    "hash": "b9c68485fc2ca22e89981470a9b901ee6a2b3827ae489e275685bf84f6ed5b5a"
   }
  }
 },
 "nbformat": 4,
 "nbformat_minor": 2
}

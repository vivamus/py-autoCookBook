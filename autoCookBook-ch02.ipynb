{
 "cells": [
  {
   "cell_type": "markdown",
   "metadata": {},
   "source": [
    "# Chapter 2. Automating Tasks Made Easy\n",
    "### Preparing a task (p. 47)\n",
    "Command line program to multiply two numbers: `ch02-prepare-task.py`"
   ]
  },
  {
   "cell_type": "code",
   "execution_count": 3,
   "metadata": {},
   "outputs": [
    {
     "name": "stderr",
     "output_type": "stream",
     "text": [
      "usage: ipykernel_launcher.py [-h] [-n1 N1] [-n2 N2]\n",
      "ipykernel_launcher.py: error: unrecognized arguments: --ip=127.0.0.1 --stdin=9003 --control=9001 --hb=9000 --Session.signature_scheme=\"hmac-sha256\" --Session.key=b\"6379f790-8a5d-486a-9e7f-3f4330f012eb\" --shell=9002 --transport=\"tcp\" --iopub=9004 --f=c:\\Users\\YURIS\\AppData\\Roaming\\jupyter\\runtime\\kernel-v2-18872gV0PkcXhyurt.json\n"
     ]
    },
    {
     "ename": "SystemExit",
     "evalue": "2",
     "output_type": "error",
     "traceback": [
      "An exception has occurred, use %tb to see the full traceback.\n",
      "\u001b[1;31mSystemExit\u001b[0m\u001b[1;31m:\u001b[0m 2\n"
     ]
    },
    {
     "name": "stderr",
     "output_type": "stream",
     "text": [
      "c:\\usr\\yuri\\python\\py-autoCookBook\\.venv\\lib\\site-packages\\IPython\\core\\interactiveshell.py:3406: UserWarning: To exit: use 'exit', 'quit', or Ctrl-D.\n",
      "  warn(\"To exit: use 'exit', 'quit', or Ctrl-D.\", stacklevel=1)\n"
     ]
    }
   ],
   "source": [
    "import argparse\n",
    "\n",
    "def main(n1,n2):\n",
    "    result = n1 * n2\n",
    "    print(f'result is {result}') # f-string with defined vars\n",
    "\n",
    "if __name__ == '__main__':\n",
    "    parser = argparse.ArgumentParser()\n",
    "    parser.add_argument('-n1', type=int, help='num 1', default=1)    \n",
    "    parser.add_argument('-n2', type=int, help='num 2', default=1)\n",
    "    args = parser.parse_args()\n",
    "    main(args.n1, args.n2)"
   ]
  },
  {
   "cell_type": "markdown",
   "metadata": {},
   "source": [
    "in the book, `config.ini` processing is performed after parsing arguments and overrides the latter. This is counterintuitive, need to look into `argparse` module to see if `given` could be checked. Here is `config.ini`\n",
    "```\n",
    "[ARGUMENTS]\n",
    "n1=5\n",
    "n2=7\n",
    "```"
   ]
  },
  {
   "cell_type": "code",
   "execution_count": null,
   "metadata": {},
   "outputs": [],
   "source": [
    "import configparser\n",
    "\n",
    "parser.add_argument('-c', '--config', type=argparse.FileType('r'), help='config file')\n",
    "\n",
    "if args.config:\n",
    "    config = configparser.ConfigParser()\n",
    "    config.read_file(args.config)\n",
    "    args.n1 = int(config['ARGUMENTS']['n1'])\n",
    "    args.n2 = int(config['ARGUMENTS']['n2'])"
   ]
  },
  {
   "cell_type": "code",
   "execution_count": null,
   "metadata": {},
   "outputs": [],
   "source": [
    "#adding output file\n",
    "import sys\n",
    "\n",
    "parser.add_argument('-o', dest='output',type=argparse.FileType('w'),default=sys.stdout,help='output file')\n",
    "\n",
    "main(args.n1,args.n2,args.output)\n",
    "def main(n1,n2,output):\n",
    "    print(f'{n1*n2}', file=output)\n"
   ]
  },
  {
   "cell_type": "markdown",
   "metadata": {},
   "source": [
    "__[configparser doc](https://docs.python.org/3/library/configparser.html)__ <br>\n",
    "More powerfult is __[YAML](https://learn.getgrav.org/advanced/yaml)__ <br>\n",
    "Add `PyYAML==5.3` to `pip install -r requiremets.txt` and define `config.yaml`:\n",
    "```\n",
    "ARGUMENTS:\n",
    "  n1: 7\n",
    "  n2: 4\n",
    "```"
   ]
  },
  {
   "cell_type": "code",
   "execution_count": null,
   "metadata": {},
   "outputs": [],
   "source": [
    "import yaml\n",
    "config = yaml.load(args.config, Loader= yaml.FullLoader)\n",
    "# No need to transform values\n",
    "args.n1 = config['ARGUMENTS']['n1']\n",
    "args.n2 = config['ARGUMENTS']['n2']"
   ]
  },
  {
   "cell_type": "markdown",
   "metadata": {},
   "source": [
    "### Setting up a cron job (p.53)\n",
    "Script `cron.py` (unix only):"
   ]
  },
  {
   "cell_type": "code",
   "execution_count": null,
   "metadata": {},
   "outputs": [],
   "source": [
    "import argparse\n",
    "import sys\n",
    "from datetime import datetime\n",
    "import configparser\n",
    "\n",
    "def main(n1,n2,out):\n",
    "    print(f'[{datetime.utcnow().isoformat()}] result of {n1} * {n2} is {n1*n2}', file=out)"
   ]
  }
 ],
 "metadata": {
  "kernelspec": {
   "display_name": "Python 3.10.5 ('.venv': venv)",
   "language": "python",
   "name": "python3"
  },
  "language_info": {
   "codemirror_mode": {
    "name": "ipython",
    "version": 3
   },
   "file_extension": ".py",
   "mimetype": "text/x-python",
   "name": "python",
   "nbconvert_exporter": "python",
   "pygments_lexer": "ipython3",
   "version": "3.10.5"
  },
  "orig_nbformat": 4,
  "vscode": {
   "interpreter": {
    "hash": "b3fb195f1769707917c36734594a5b5cdfc69d3756177959b80c085aef1025cd"
   }
  }
 },
 "nbformat": 4,
 "nbformat_minor": 2
}

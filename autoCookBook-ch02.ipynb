{
 "cells": [
  {
   "cell_type": "markdown",
   "metadata": {},
   "source": [
    "# Chapter 2. Automating Tasks Made Easy\n",
    "### Preparing a task (p. 47)\n",
    "Command line program to multiply two numbers: `ch02-prepare-task.py`"
   ]
  },
  {
   "cell_type": "code",
   "execution_count": 3,
   "metadata": {},
   "outputs": [
    {
     "name": "stderr",
     "output_type": "stream",
     "text": [
      "usage: ipykernel_launcher.py [-h] [-n1 N1] [-n2 N2]\n",
      "ipykernel_launcher.py: error: unrecognized arguments: --ip=127.0.0.1 --stdin=9003 --control=9001 --hb=9000 --Session.signature_scheme=\"hmac-sha256\" --Session.key=b\"6379f790-8a5d-486a-9e7f-3f4330f012eb\" --shell=9002 --transport=\"tcp\" --iopub=9004 --f=c:\\Users\\YURIS\\AppData\\Roaming\\jupyter\\runtime\\kernel-v2-18872gV0PkcXhyurt.json\n"
     ]
    },
    {
     "ename": "SystemExit",
     "evalue": "2",
     "output_type": "error",
     "traceback": [
      "An exception has occurred, use %tb to see the full traceback.\n",
      "\u001b[1;31mSystemExit\u001b[0m\u001b[1;31m:\u001b[0m 2\n"
     ]
    },
    {
     "name": "stderr",
     "output_type": "stream",
     "text": [
      "c:\\usr\\yuri\\python\\py-autoCookBook\\.venv\\lib\\site-packages\\IPython\\core\\interactiveshell.py:3406: UserWarning: To exit: use 'exit', 'quit', or Ctrl-D.\n",
      "  warn(\"To exit: use 'exit', 'quit', or Ctrl-D.\", stacklevel=1)\n"
     ]
    }
   ],
   "source": [
    "import argparse\n",
    "\n",
    "def main(n1,n2):\n",
    "    result = n1 * n2\n",
    "    print(f'result is {result}') # f-string with defined vars\n",
    "\n",
    "if __name__ == '__main__':\n",
    "    parser = argparse.ArgumentParser()\n",
    "    parser.add_argument('-n1', type=int, help='num 1', default=1)    \n",
    "    parser.add_argument('-n2', type=int, help='num 2', default=1)\n",
    "    args = parser.parse_args()\n",
    "    main(args.n1, args.n2)"
   ]
  },
  {
   "cell_type": "markdown",
   "metadata": {},
   "source": [
    "in the book, `config.ini` processing is performed after parsing arguments and overrides the latter. This is counterintuitive, need to look into `argparse` module to see if `given` could be checked. Here is `config.ini`\n",
    "```\n",
    "[ARGUMENTS]\n",
    "n1=5\n",
    "n2=7\n",
    "```"
   ]
  },
  {
   "cell_type": "code",
   "execution_count": null,
   "metadata": {},
   "outputs": [],
   "source": [
    "import configparser\n",
    "\n",
    "parser.add_argument('-c', '--config', type=argparse.FileType('r'), help='config file')\n",
    "\n",
    "if args.config:\n",
    "    config = configparser.ConfigParser()\n",
    "    config.read_file(args.config)\n",
    "    args.n1 = int(config['ARGUMENTS']['n1'])\n",
    "    args.n2 = int(config['ARGUMENTS']['n2'])"
   ]
  },
  {
   "cell_type": "code",
   "execution_count": null,
   "metadata": {},
   "outputs": [],
   "source": [
    "#adding output file\n",
    "import sys\n",
    "\n",
    "# maybe 'a' ?\n",
    "parser.add_argument('-o', dest='output',type=argparse.FileType('w'),default=sys.stdout,help='output file')\n",
    "\n",
    "main(args.n1,args.n2,args.output)\n",
    "def main(n1,n2,output):\n",
    "    print(f'{n1*n2}', file=output)\n"
   ]
  },
  {
   "cell_type": "markdown",
   "metadata": {},
   "source": [
    "__[configparser doc](https://docs.python.org/3/library/configparser.html)__ <br>\n",
    "More powerfult is __[YAML](https://learn.getgrav.org/advanced/yaml)__ <br>\n",
    "Add `PyYAML==5.3` to `pip install -r requiremets.txt` and define `config.yaml`:\n",
    "```\n",
    "ARGUMENTS:\n",
    "  n1: 7\n",
    "  n2: 4\n",
    "```"
   ]
  },
  {
   "cell_type": "code",
   "execution_count": null,
   "metadata": {},
   "outputs": [],
   "source": [
    "import yaml\n",
    "config = yaml.load(args.config, Loader= yaml.FullLoader)\n",
    "# No need to transform values\n",
    "args.n1 = config['ARGUMENTS']['n1']\n",
    "args.n2 = config['ARGUMENTS']['n2']"
   ]
  },
  {
   "cell_type": "markdown",
   "metadata": {},
   "source": [
    "### Setting up a cron job (p.53)\n",
    "Script `ch02-cron.py` (unix only):"
   ]
  },
  {
   "cell_type": "code",
   "execution_count": null,
   "metadata": {},
   "outputs": [],
   "source": [
    "import argparse\n",
    "import sys\n",
    "from datetime import datetime\n",
    "import configparser\n",
    "\n",
    "def main(n1,n2,out):\n",
    "    print(f'[{datetime.utcnow().isoformat()}] result of {n1} * {n2} is {n1*n2}', file=out)\n",
    "\n",
    "if __name__ == '__main__':\n",
    "    # ArgumentDefaultsHelpFormatter -- gives defaults with -h\n",
    "    parser = argparse.ArgumentParser(formatter_class=argparse.ArgumentDefaultsHelpFormatter)\n",
    "    parser.add_argument('-c', '--config', type=argparse.FileType('r'), help='config file',default='/etc/automate.ini')\n",
    "    parser.add_argument('-o',help='output', default=sys.stdout,  dest='output', type=argparse.FileType('a'))\n",
    "    args = parser.parse_args()\n",
    "    if args.config:\n",
    "        config = configparser.ConfigParser()\n",
    "        config.read_file(args.config)\n",
    "        # Transforming values into integers\n",
    "        args.n1 = int(config['ARGUMENTS']['n1'])\n",
    "        args.n2 = int(config['ARGUMENTS']['n2'])\n",
    "    main(args.n1, args.n2, args.output)"
   ]
  },
  {
   "cell_type": "markdown",
   "metadata": {},
   "source": [
    "```\n",
    "crontab -l\n",
    "crontab -e  # for 5min\n",
    "*/5 * * * * /fullpath_venv/python /fullpath2/cron.py -o /fullpath3/automate.log\n",
    "```\n",
    "__[crontab cheat sheet](https://crontab.guru/)__ \n",
    "```\n",
    "* * * * * *\n",
    "| | | | | |\n",
    "| | | | | +-- Year (range: 1900-3000)\n",
    "| | | | +---- Day of the Week (range: 1-7, 1 standing for Monday)\n",
    "| | | +------ Month of the Year (range: 1-12)\n",
    "| | +-------- Day of the Month (range: 1-31)\n",
    "| +---------- Hour (range: 0-23)\n",
    "+------------ Minute (range: 0-59)\n",
    "Therefore, our line, */5 * * * * *, means every time the minute is divisible by 5, in all\n",
    "hours, all days... all years.\n",
    "Here are some examples:\n",
    "30 15 * * * *   means \"every day at 15:30\"\n",
    "30 * * * * *    means \"every hour, at 30 minutes\"\n",
    "0,30 * * * * *  means \"every hour, at 0 minutes and 30 minutes\"\n",
    "*/30 * * * * *  means \"every half hour\"\n",
    "0 0 * * 1 *     means \"every Monday at 00:00\"\n",
    "```\n",
    "It is essential to specify full pathes everywhere in crontab. If any problem with crontab, you will receive email (e.g. no such file or directory)\n",
    "\n",
    "`python ch02-cron.py -h` gives weird default for output `sys.stdout` -- __[change `formater_class` argument in `ArgumentParser`](https://docs.python.org/2/library/argparse.html#formatter-class)__\n",
    "\n",
    "### Capturing errors and problems\n",
    "Divide two numbers in `ch02-err.py`"
   ]
  },
  {
   "cell_type": "code",
   "execution_count": null,
   "metadata": {},
   "outputs": [],
   "source": [
    "import argparse\n",
    "import sys\n",
    "def main(n1,n2,out):\n",
    "    print(f'{n1} / {n2} = {n1/n2}',file=out)\n",
    "\n",
    "if __name__ == '__main__':\n",
    "    parser = argparse.ArgumentParser()\n",
    "    parser.add_argument('-n1',type=int,default=1,help='numerator')\n",
    "    parser.add_argument('-n2',type=int,default=1,help='denom')\n",
    "    parser.add_argument('-o',dest='out',type=argparse.FileType('a'),default=sys.stdout,help='out')\n",
    "    args = parser.parse_args()\n",
    "    main(args.n1,args.n2,args.out)"
   ]
  },
  {
   "cell_type": "code",
   "execution_count": null,
   "metadata": {},
   "outputs": [],
   "source": [
    "import logging\n",
    "LOG_FORMAT = '%(asctime)s %(name)s %(levelname)s %(message)s'\n",
    "LOG_LEVEL = logging.DEBUG\n",
    "\n",
    "parser.add_argument('-l',type=str,dest='log',help='logfile')\n",
    "\n",
    "if args.log:\n",
    "    logging.basicConfig(format=LOG_FORMAT, level=LOG_LEVEL, filename=args.log)\n",
    "else:\n",
    "    logging.basicConfig(format=LOG_FORMAT, level=LOG_LEVEL)\n",
    "\n",
    "try: \n",
    "    main(args.n1,args.n2,args.out)\n",
    "    except Exception as exc:\n",
    "        logging.exception(\"Error running task\")\n",
    "        print('There has been an error. Check the logs.')\n",
    "        exit(1)"
   ]
  },
  {
   "cell_type": "markdown",
   "metadata": {},
   "source": [
    "\n",
    "DEBUG, INFO, WARNING, ERROR, CRITICAL <br>\n",
    "logging.warning() .info() .debug # only if level >= <br>\n",
    "logging.exception() also provides stack trace <br>\n",
    "__[documentation of the module](https://docs.python.org/3.8/library/logging.html)__ or\n",
    " __[tutorial](https://docs.python.org/3.8/howto/logging.html)__\n",
    "\n"
   ]
  },
  {
   "cell_type": "code",
   "execution_count": null,
   "metadata": {},
   "outputs": [],
   "source": []
  }
 ],
 "metadata": {
  "kernelspec": {
   "display_name": "Python 3.10.5 ('.venv': venv)",
   "language": "python",
   "name": "python3"
  },
  "language_info": {
   "codemirror_mode": {
    "name": "ipython",
    "version": 3
   },
   "file_extension": ".py",
   "mimetype": "text/x-python",
   "name": "python",
   "nbconvert_exporter": "python",
   "pygments_lexer": "ipython3",
   "version": "3.10.5"
  },
  "orig_nbformat": 4,
  "vscode": {
   "interpreter": {
    "hash": "b9c68485fc2ca22e89981470a9b901ee6a2b3827ae489e275685bf84f6ed5b5a"
   }
  }
 },
 "nbformat": 4,
 "nbformat_minor": 2
}

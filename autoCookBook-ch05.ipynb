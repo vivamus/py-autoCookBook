{
 "cells": [
  {
   "cell_type": "markdown",
   "metadata": {},
   "source": [
    "# Generating Fantastic Reports\n",
    "### Creating a simple report in plain text"
   ]
  },
  {
   "cell_type": "code",
   "execution_count": 6,
   "metadata": {},
   "outputs": [
    {
     "data": {
      "text/plain": [
       "'\\nMovies report\\n-------------\\n\\nDate: 2022-08-08 01:26:57.363508\\nMovies seen in the last 30 days: 3\\nTotal minutes: 376\\n'"
      ]
     },
     "execution_count": 6,
     "metadata": {},
     "output_type": "execute_result"
    }
   ],
   "source": [
    "from datetime import datetime\n",
    "TEMPLATE = '''\n",
    "Movies report\n",
    "-------------\n",
    "\n",
    "Date: {date}\n",
    "Movies seen in the last 30 days: {num_movies}\n",
    "Total minutes: {total_minutes}\n",
    "'''\n",
    "data = {  # values to report dictionary\n",
    "    'date' : datetime.utcnow(),\n",
    "    'num_movies' : 3,\n",
    "    'total_minutes' : 376,\n",
    "}\n",
    "report = TEMPLATE.format(**data)  #unpack dict\n",
    "report"
   ]
  },
  {
   "cell_type": "markdown",
   "metadata": {},
   "source": [
    "Create a new file with the current date and store the report:"
   ]
  },
  {
   "cell_type": "code",
   "execution_count": 5,
   "metadata": {},
   "outputs": [
    {
     "name": "stdout",
     "output_type": "stream",
     "text": [
      "\n",
      "Movies report\n",
      "-------------\n",
      "\n",
      "Date: 2022-08-08 01:17:52.672008\n",
      "Movies seen in the last 30 days: 3\n",
      "Total minutes: 376\n"
     ]
    }
   ],
   "source": [
    "FOFILENAME_TMPL = \"junk-{date}_report.txt\" \n",
    "filename = FOFILENAME_TMPL.format(date = data['date'].strftime('%Y-%m-%d'))\n",
    "with open(filename,'w') as file:\n",
    "    file.write(report)\n",
    "!cat junk-*_report.txt"
   ]
  },
  {
   "cell_type": "markdown",
   "metadata": {},
   "source": [
    "### Using templates for reports"
   ]
  }
 ],
 "metadata": {
  "kernelspec": {
   "display_name": "Python 3.10.5 ('.venv': venv)",
   "language": "python",
   "name": "python3"
  },
  "language_info": {
   "codemirror_mode": {
    "name": "ipython",
    "version": 3
   },
   "file_extension": ".py",
   "mimetype": "text/x-python",
   "name": "python",
   "nbconvert_exporter": "python",
   "pygments_lexer": "ipython3",
   "version": "3.10.5"
  },
  "orig_nbformat": 4,
  "vscode": {
   "interpreter": {
    "hash": "b9c68485fc2ca22e89981470a9b901ee6a2b3827ae489e275685bf84f6ed5b5a"
   }
  }
 },
 "nbformat": 4,
 "nbformat_minor": 2
}

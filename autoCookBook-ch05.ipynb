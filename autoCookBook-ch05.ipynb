{
 "cells": [
  {
   "cell_type": "markdown",
   "metadata": {},
   "source": [
    "# Generating Fantastic Reports\n",
    "### Creating a simple report in plain text"
   ]
  },
  {
   "cell_type": "code",
   "execution_count": 3,
   "metadata": {},
   "outputs": [
    {
     "data": {
      "text/plain": [
       "'\\nMovies report\\n-------------\\n\\nDate: 2022-08-08 03:40:46.543709\\nMovies seen in the last 30 days: 3\\nTotal minutes: 376\\n'"
      ]
     },
     "execution_count": 3,
     "metadata": {},
     "output_type": "execute_result"
    }
   ],
   "source": [
    "from datetime import datetime\n",
    "TEMPLATE = '''\n",
    "Movies report\n",
    "-------------\n",
    "\n",
    "Date: {date}\n",
    "Movies seen in the last 30 days: {num_movies}\n",
    "Total minutes: {total_minutes}\n",
    "'''\n",
    "data = {  # values to report dictionary\n",
    "    'date' : datetime.utcnow(),\n",
    "    'num_movies' : 3,\n",
    "    'total_minutes' : 376,\n",
    "}\n",
    "report = TEMPLATE.format(**data)  #unpack dict\n",
    "report"
   ]
  },
  {
   "cell_type": "markdown",
   "metadata": {},
   "source": [
    "Create a new file with the current date and store the report:"
   ]
  },
  {
   "cell_type": "code",
   "execution_count": 8,
   "metadata": {},
   "outputs": [
    {
     "name": "stdout",
     "output_type": "stream",
     "text": [
      "\n",
      "Movies report\n",
      "-------------\n",
      "\n",
      "Date: 2022-08-08 02:02:36.884762\n",
      "Movies seen in the last 30 days: 3\n",
      "Total minutes: 376\n"
     ]
    }
   ],
   "source": [
    "FILENAME_TMPL = \"junk-{date}_report.txt\" \n",
    "filename = FILENAME_TMPL.format(date = data['date'].strftime('%Y-%m-%d'))\n",
    "with open(filename,'w') as file:\n",
    "    file.write(report)\n",
    "!cat junk-*_report.txt"
   ]
  },
  {
   "cell_type": "markdown",
   "metadata": {},
   "source": [
    "### Using templates for reports\n",
    "`jinja2==3.0.1` special HTML/Python `jinja_template.html`ß"
   ]
  },
  {
   "cell_type": "code",
   "execution_count": 6,
   "metadata": {},
   "outputs": [],
   "source": [
    "from jinja2 import Template\n",
    "with open('jinja_template.html') as file:\n",
    "    template = Template(file.read())\n",
    "context = {\n",
    "    'date': datetime.now(),\n",
    "    'movies': ['Casablanca', 'The Sound of Music', 'Vertigo'],\n",
    "    'total_minutes': 404,\n",
    "}\n",
    "with open('junk-report.html', 'w') as file:\n",
    "    file.write(template.render(context))\n"
   ]
  },
  {
   "cell_type": "markdown",
   "metadata": {},
   "source": [
    "In template, `{{movies|length}}`  `length` filter applied to `movies` using pipe. E.g.\n",
    "```\n",
    "{% if movies|length > 5 %}\n",
    "  Wow, so many movies this month!\n",
    "{% else %}\n",
    "  Regular number of movies\n",
    "{% endif %}\n",
    "```\n",
    "[more jinja builtin filters](http://jinja.pocoo.org/docs/2.11/templates/#list-of-builtin-filters). Also, possible to escape HTML tags: <br> `Template('{{variable}}', autoescape=False).render({'variable': '<'}) '<'`\n",
    "\n",
    "### Formatting text in Markdown\n",
    "`mistune==0.8.4`  [Dillinger Markdown online editor](https://dillinger.io/), __[syntaX](https://daringfireball.net/projects/markdown/syntax)__, [good cheat sheet with the most frequently used elements](https://www.markdownguide.org/cheat-sheet/)"
   ]
  },
  {
   "cell_type": "code",
   "execution_count": 11,
   "metadata": {},
   "outputs": [],
   "source": [
    "import mistune\n",
    "with open('markdown_template.md') as file:\n",
    "    template = file.read()\n",
    "context = {\n",
    "    'date': datetime.now(),\n",
    "    'pmovies': ['Casablanca', 'The Sound of Music', 'Vertigo'],\n",
    "    'total_minutes': 404,\n",
    "}\n",
    "context['num_movies'] = len(context['pmovies'])\n",
    "context['movies'] = '\\n'.join(   '* {}'.format(movie) for movie in context['pmovies']   )\n",
    "md_report = template.format(**context)\n",
    "report = mistune.markdown(md_report)\n",
    "with open('junk-report.html', 'w') as file:\n",
    "    file.write(report)"
   ]
  },
  {
   "cell_type": "markdown",
   "metadata": {},
   "source": [
    "### Writing a basic Word document"
   ]
  },
  {
   "cell_type": "code",
   "execution_count": 14,
   "metadata": {},
   "outputs": [],
   "source": [
    "import docx\n",
    "from datetime import datetime\n",
    "context = {\n",
    "    'date': datetime.now(),\n",
    "    'movies': ['Casablanca', 'The Sound of Music', 'Vertigo'],\n",
    "    'total_minutes': 404,\n",
    "}\n",
    "doc = docx.Document()\n",
    "doc.add_heading('Movies Report', 0)\n",
    "par = doc.add_paragraph('Date: ')\n",
    "par.add_run(str(context['date'])).italic = True\n",
    "par = doc.add_paragraph('Movies in last 30 days: ')\n",
    "par.add_run(str(context['movies'])).italic = True\n",
    "for movie in context['movies']:\n",
    "    doc.add_paragraph(movie, style='List Bullet')\n",
    "par = doc.add_paragraph('Total minutes: ')\n",
    "par.add_run(str(context['total_minutes'])).italic = True\n",
    "doc.save('junk-word-report.docx')"
   ]
  },
  {
   "cell_type": "markdown",
   "metadata": {},
   "source": [
    "### Styling a Word document"
   ]
  },
  {
   "cell_type": "code",
   "execution_count": 16,
   "metadata": {},
   "outputs": [
    {
     "data": {
      "text/plain": [
       "<docx.text.paragraph.Paragraph at 0x108459ae0>"
      ]
     },
     "execution_count": 16,
     "metadata": {},
     "output_type": "execute_result"
    }
   ],
   "source": [
    "import docx\n",
    "doc = docx.Document()\n",
    "p = doc.add_paragraph('Different emphases: ')\n",
    "p.add_run('bold').bold = True\n",
    "p.add_run(', ')\n",
    "p.add_run('italics').italic = True\n",
    "p.add_run(' and ')\n",
    "p.add_run('underline').underline = True\n",
    "p.add_run('.')\n",
    "doc.add_paragraph('a few', style='List Bullet')\n",
    "doc.add_paragraph('bullet', style='List Bullet')\n",
    "doc.add_paragraph('points', style='List Bullet')\n",
    "doc.add_paragraph('Or numbered', style='List Number')\n",
    "doc.add_paragraph('that will', style='List Number')\n",
    "doc.add_paragraph('keep', style='List Number')\n",
    "doc.add_paragraph('count', style='List Number')\n",
    "doc.add_paragraph('And finish with a quote', style='Quote')"
   ]
  },
  {
   "cell_type": "code",
   "execution_count": 18,
   "metadata": {},
   "outputs": [],
   "source": [
    "from docx.shared import Pt\n",
    "from docx.enum.text import WD_ALIGN_PARAGRAPH\n",
    "from docx.shared import RGBColor\n",
    "DARK_BLUE = RGBColor.from_string('1b3866')\n",
    "p = doc.add_paragraph('This par has manual styling and right alignment')\n",
    "p.runs[0].font.name = 'Arial'\n",
    "p.runs[0].font.size = Pt(25)\n",
    "p.runs[0].font.color.rgb = DARK_BLUE\n",
    "p.alignment = WD_ALIGN_PARAGRAPH.RIGHT\n",
    "doc.save('junk-word-style.docx')"
   ]
  },
  {
   "cell_type": "markdown",
   "metadata": {},
   "source": [
    "If you need to generate a palette, it's a good idea to use tools such as [coolors](https://coolors.co/) to generate good combinations.\n",
    "\n",
    "### Generating structure in Word documents"
   ]
  }
 ],
 "metadata": {
  "kernelspec": {
   "display_name": "Python 3.10.5 ('.venv': venv)",
   "language": "python",
   "name": "python3"
  },
  "language_info": {
   "codemirror_mode": {
    "name": "ipython",
    "version": 3
   },
   "file_extension": ".py",
   "mimetype": "text/x-python",
   "name": "python",
   "nbconvert_exporter": "python",
   "pygments_lexer": "ipython3",
   "version": "3.10.5"
  },
  "orig_nbformat": 4,
  "vscode": {
   "interpreter": {
    "hash": "b9c68485fc2ca22e89981470a9b901ee6a2b3827ae489e275685bf84f6ed5b5a"
   }
  }
 },
 "nbformat": 4,
 "nbformat_minor": 2
}

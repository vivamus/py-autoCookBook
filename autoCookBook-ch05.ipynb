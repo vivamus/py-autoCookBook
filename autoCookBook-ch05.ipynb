{
 "cells": [
  {
   "cell_type": "markdown",
   "metadata": {},
   "source": [
    "# Generating Fantastic Reports\n",
    "### Creating a simple report in plain text"
   ]
  },
  {
   "cell_type": "code",
   "execution_count": 3,
   "metadata": {},
   "outputs": [
    {
     "data": {
      "text/plain": [
       "'\\nMovies report\\n-------------\\n\\nDate: 2022-08-08 03:40:46.543709\\nMovies seen in the last 30 days: 3\\nTotal minutes: 376\\n'"
      ]
     },
     "execution_count": 3,
     "metadata": {},
     "output_type": "execute_result"
    }
   ],
   "source": [
    "from datetime import datetime\n",
    "TEMPLATE = '''\n",
    "Movies report\n",
    "-------------\n",
    "\n",
    "Date: {date}\n",
    "Movies seen in the last 30 days: {num_movies}\n",
    "Total minutes: {total_minutes}\n",
    "'''\n",
    "data = {  # values to report dictionary\n",
    "    'date' : datetime.utcnow(),\n",
    "    'num_movies' : 3,\n",
    "    'total_minutes' : 376,\n",
    "}\n",
    "report = TEMPLATE.format(**data)  #unpack dict\n",
    "report"
   ]
  },
  {
   "cell_type": "markdown",
   "metadata": {},
   "source": [
    "Create a new file with the current date and store the report:"
   ]
  },
  {
   "cell_type": "code",
   "execution_count": 8,
   "metadata": {},
   "outputs": [
    {
     "name": "stdout",
     "output_type": "stream",
     "text": [
      "\n",
      "Movies report\n",
      "-------------\n",
      "\n",
      "Date: 2022-08-08 02:02:36.884762\n",
      "Movies seen in the last 30 days: 3\n",
      "Total minutes: 376\n"
     ]
    }
   ],
   "source": [
    "FILENAME_TMPL = \"junk-{date}_report.txt\" \n",
    "filename = FILENAME_TMPL.format(date = data['date'].strftime('%Y-%m-%d'))\n",
    "with open(filename,'w') as file:\n",
    "    file.write(report)\n",
    "!cat junk-*_report.txt"
   ]
  },
  {
   "cell_type": "markdown",
   "metadata": {},
   "source": [
    "### Using templates for reports\n",
    "`jinja2==3.0.1` special HTML/Python `jinja_template.html`ß"
   ]
  },
  {
   "cell_type": "code",
   "execution_count": 6,
   "metadata": {},
   "outputs": [],
   "source": [
    "from jinja2 import Template\n",
    "with open('jinja_template.html') as file:\n",
    "    template = Template(file.read())\n",
    "context = {\n",
    "    'date': datetime.now(),\n",
    "    'movies': ['Casablanca', 'The Sound of Music', 'Vertigo'],\n",
    "    'total_minutes': 404,\n",
    "}\n",
    "with open('junk-report.html', 'w') as file:\n",
    "    file.write(template.render(context))\n"
   ]
  },
  {
   "cell_type": "markdown",
   "metadata": {},
   "source": [
    "In template, `{{movies|length}}`  `length` filter applied to `movies` using pipe. E.g.\n",
    "```\n",
    "{% if movies|length > 5 %}\n",
    "  Wow, so many movies this month!\n",
    "{% else %}\n",
    "  Regular number of movies\n",
    "{% endif %}\n",
    "```\n",
    "[more jinja builtin filters](http://jinja.pocoo.org/docs/2.11/templates/#list-of-builtin-filters). Also, possible to escape HTML tags: <br> `Template('{{variable}}', autoescape=False).render({'variable': '<'}) '<'`\n",
    "\n",
    "### Formatting text in Markdown\n",
    "`mistune==0.8.4`  [Dillinger Markdown online editor](https://dillinger.io/), __[syntaX](https://daringfireball.net/projects/markdown/syntax)__, [good cheat sheet with the most frequently used elements](https://www.markdownguide.org/cheat-sheet/)"
   ]
  },
  {
   "cell_type": "code",
   "execution_count": 11,
   "metadata": {},
   "outputs": [],
   "source": [
    "import mistune\n",
    "with open('markdown_template.md') as file:\n",
    "    template = file.read()\n",
    "context = {\n",
    "    'date': datetime.now(),\n",
    "    'pmovies': ['Casablanca', 'The Sound of Music', 'Vertigo'],\n",
    "    'total_minutes': 404,\n",
    "}\n",
    "context['num_movies'] = len(context['pmovies'])\n",
    "context['movies'] = '\\n'.join(   '* {}'.format(movie) for movie in context['pmovies']   )\n",
    "md_report = template.format(**context)\n",
    "report = mistune.markdown(md_report)\n",
    "with open('junk-report.html', 'w') as file:\n",
    "    file.write(report)"
   ]
  },
  {
   "cell_type": "markdown",
   "metadata": {},
   "source": [
    "### Writing a basic Word document"
   ]
  },
  {
   "cell_type": "code",
   "execution_count": 14,
   "metadata": {},
   "outputs": [],
   "source": [
    "import docx\n",
    "from datetime import datetime\n",
    "context = {\n",
    "    'date': datetime.now(),\n",
    "    'movies': ['Casablanca', 'The Sound of Music', 'Vertigo'],\n",
    "    'total_minutes': 404,\n",
    "}\n",
    "doc = docx.Document()\n",
    "doc.add_heading('Movies Report', 0)\n",
    "par = doc.add_paragraph('Date: ')\n",
    "par.add_run(str(context['date'])).italic = True\n",
    "par = doc.add_paragraph('Movies in last 30 days: ')\n",
    "par.add_run(str(context['movies'])).italic = True\n",
    "for movie in context['movies']:\n",
    "    doc.add_paragraph(movie, style='List Bullet')\n",
    "par = doc.add_paragraph('Total minutes: ')\n",
    "par.add_run(str(context['total_minutes'])).italic = True\n",
    "doc.save('junk-word-report.docx')"
   ]
  },
  {
   "cell_type": "markdown",
   "metadata": {},
   "source": [
    "### Styling a Word document"
   ]
  },
  {
   "cell_type": "code",
   "execution_count": 16,
   "metadata": {},
   "outputs": [
    {
     "data": {
      "text/plain": [
       "<docx.text.paragraph.Paragraph at 0x108459ae0>"
      ]
     },
     "execution_count": 16,
     "metadata": {},
     "output_type": "execute_result"
    }
   ],
   "source": [
    "import docx\n",
    "doc = docx.Document()\n",
    "p = doc.add_paragraph('Different emphases: ')\n",
    "p.add_run('bold').bold = True\n",
    "p.add_run(', ')\n",
    "p.add_run('italics').italic = True\n",
    "p.add_run(' and ')\n",
    "p.add_run('underline').underline = True\n",
    "p.add_run('.')\n",
    "doc.add_paragraph('a few', style='List Bullet')\n",
    "doc.add_paragraph('bullet', style='List Bullet')\n",
    "doc.add_paragraph('points', style='List Bullet')\n",
    "doc.add_paragraph('Or numbered', style='List Number')\n",
    "doc.add_paragraph('that will', style='List Number')\n",
    "doc.add_paragraph('keep', style='List Number')\n",
    "doc.add_paragraph('count', style='List Number')\n",
    "doc.add_paragraph('And finish with a quote', style='Quote')"
   ]
  },
  {
   "cell_type": "code",
   "execution_count": 18,
   "metadata": {},
   "outputs": [],
   "source": [
    "from docx.shared import Pt\n",
    "from docx.enum.text import WD_ALIGN_PARAGRAPH\n",
    "from docx.shared import RGBColor\n",
    "DARK_BLUE = RGBColor.from_string('1b3866')\n",
    "p = doc.add_paragraph('This par has manual styling and right alignment')\n",
    "p.runs[0].font.name = 'Arial'\n",
    "p.runs[0].font.size = Pt(25)\n",
    "p.runs[0].font.color.rgb = DARK_BLUE\n",
    "p.alignment = WD_ALIGN_PARAGRAPH.RIGHT\n",
    "doc.save('junk-word-style.docx')"
   ]
  },
  {
   "cell_type": "markdown",
   "metadata": {},
   "source": [
    "If you need to generate a palette, it's a good idea to use tools such as [coolors](https://coolors.co/) to generate good combinations.\n",
    "\n",
    "### Generating structure in Word documents"
   ]
  },
  {
   "cell_type": "code",
   "execution_count": 22,
   "metadata": {},
   "outputs": [],
   "source": [
    "import docx\n",
    "doc = docx.Document()\n",
    "p = doc.add_paragraph('This is the start of a paragraph')\n",
    "run = p.add_run()\n",
    "run.add_break(docx.text.run.WD_BREAK.LINE)\n",
    "p.add_run('And this is a different run')\n",
    "p.add_run('. Even though on the same paragraph.')\n",
    "doc.add_page_break()\n",
    "doc.add_paragraph('On a new page')\n",
    "sec = doc.add_section(docx.enum.section.WD_SECTION.NEW_PAGE)\n",
    "sec.orientation = docx.enum.section.WD_ORIENT.LANDSCAPE\n",
    "sec.page_height, sec.page_width = sec.page_width, sec.page_height\n",
    "doc.add_paragraph('And this is Landscape section')\n",
    "sec = doc.add_section(docx.enum.section.WD_SECTION.NEW_PAGE)\n",
    "sec.orientation = docx.enum.section.WD_ORIENT.PORTRAIT\n",
    "sec.page_height, sec.page_width = sec.page_width, sec.page_height\n",
    "doc.add_paragraph('Revert to Portrait')\n",
    "doc.save('junk-word-struct.docx')"
   ]
  },
  {
   "cell_type": "markdown",
   "metadata": {},
   "source": [
    "```\n",
    "from docx.shared import Inches, Cm\n",
    ">>> section.page_height = Inches(10)\n",
    ">>> section.page_width = Cm(20)\n",
    "The page margins can also be defined in the same way:\n",
    ">>> section.left_margin = Inches(1.5)\n",
    ">>> section.right_margin = Cm(2.81)\n",
    ">>> section.top_margin = Inches(1)\n",
    ">>> section.bottom_margin = Cm(2.54)\n",
    "```\n",
    "Sections can also be forced to start not only on the next page, but on the next odd page, which will look better when printing on two sides:\n",
    "```\n",
    ">>> document.add_section( docx.enum.section.WD_SECTION.ODD_PAGE)\n",
    "```\n",
    "\n",
    "### Adding pictures to Word documents\n",
    "`$ wget https://github.com/PacktPublishing/Python-Automation-Cookbook-Second-Edition/blob/master/Chapter04/images/photo-dublin-a1.jpg`\n"
   ]
  },
  {
   "cell_type": "code",
   "execution_count": 29,
   "metadata": {},
   "outputs": [],
   "source": [
    "import docx\n",
    "doc = docx.Document()\n",
    "p = doc.add_paragraph('Below is a picture of Dublin')\n",
    "image = doc.add_picture('images/photo-dublin-a1.jpg')\n",
    "ASPECT = image.height / image.width\n",
    "from docx.shared import Inches, Cm\n",
    "image.width = Cm(14)\n",
    "image.height = Cm(ASPECT * 14)\n",
    "p = doc.paragraphs[-1]\n",
    "from docx.enum.text import WD_ALIGN_PARAGRAPH\n",
    "p.alignment = WD_ALIGN_PARAGRAPH.CENTER\n",
    "p.add_run().add_break()\n",
    "p.add_run('Pic of Dublin')\n",
    "doc.add_paragraph('Keep adding text in a new paragraph')\n",
    "doc.save('junk-word-pic.docx')"
   ]
  },
  {
   "cell_type": "markdown",
   "metadata": {},
   "source": [
    "### Writing a simple PDF document\n",
    "`fpdf==1.7.2`  [FPDF doc](http://pyfpdf.readthedocs.io/en/latest/index.html)"
   ]
  },
  {
   "cell_type": "code",
   "execution_count": 30,
   "metadata": {},
   "outputs": [
    {
     "data": {
      "text/plain": [
       "''"
      ]
     },
     "execution_count": 30,
     "metadata": {},
     "output_type": "execute_result"
    }
   ],
   "source": [
    "import fpdf\n",
    "doc = fpdf.FPDF()\n",
    "doc.set_font('Times', 'B', 14)\n",
    "doc.set_text_color(19, 83, 173)\n",
    "doc.add_page()\n",
    "# .cell only for single line -- get_string_width to find\n",
    "doc.cell(0, 5, 'PDF Test Doc') # Cell is BOX -- width=0 (page width) height=5mm\n",
    "doc.ln()  # new line\n",
    "doc.set_font('Times', '', 12)\n",
    "doc.set_text_color(0)\n",
    "doc.multi_cell(0,5, 'This is an example of a very long paragraph. ' * 10)\n",
    "doc.ln()\n",
    "doc.multi_cell(0, 5, 'Another long paragraph. Lorem ipsum dolor sit amet, consectetur adipis elit. ' * 20)\n",
    "doc.output('junk-report.pdf')"
   ]
  },
  {
   "cell_type": "markdown",
   "metadata": {},
   "source": [
    "### Structuring a PDF\n",
    "`ch05-structuring_pdf.py`   Also, [set_link](http://pyfpdf.readthedocs.io/en/latest/reference/set_link/index.html) of [FPDF](http://pyfpdf.readthedocs.io/en/latest/index.html)"
   ]
  },
  {
   "cell_type": "code",
   "execution_count": 1,
   "metadata": {},
   "outputs": [],
   "source": [
    "import fpdf\n",
    "from random import randint\n",
    "\n",
    "class StructuredPDF(fpdf.FPDF):     # no own __init__\n",
    "    LINE_HEIGHT = 5\n",
    "\n",
    "    def footer(self):  # overrides superclass\n",
    "        self.set_y(-15)\n",
    "        self.set_font('Times', 'I', 8)\n",
    "        # doc.alias_nb_pages() in main sets {nb} . It will be substituted as the document is closed.\n",
    "        page_number = 'Page {number}/{{nb}}'.format(number=self.page_no())  \n",
    "        self.cell(0, self.LINE_HEIGHT, page_number, 0, 0, 'R') # border=0, ln=0, align='R'\n",
    "\n",
    "    def chapter(self,title,paragraphs):\n",
    "        self.add_page()\n",
    "        link = self.title_text(title)\n",
    "        page = self.page_no()\n",
    "        for par in paragraphs:\n",
    "            self.multi_cell(0,self.LINE_HEIGHT,paragraph)\n",
    "            self.ln()\n",
    "        return link, page\n",
    "\n",
    "    def title_text(self,title)\n",
    "        self.set_font('Times', 'B', 15)\n",
    "        self.cell(0, self.LINE_HEIGHT, title)\n",
    "        self.set_font('Times', '', 12)\n",
    "        self.line(10,17,110,17)\n",
    "        link = self.add_link()\n",
    "        self.set_link(link)\n",
    "        self.ln()\n",
    "        self.ln()\n",
    "        return link\n",
    "\n",
    "    def get_full_line(self, head, tail, fill):\n",
    "        pass # see .py\n",
    "    def toc(self,links):\n",
    "        self.add_page()\n",
    "        self.TITLE_TEXT('Table of contents')\n",
    "        self.set_font('Times', 'I', 12)\n",
    "        for title, page, link in links:\n",
    "            line = self.get_full_line(title, page, '.')\n",
    "            self.cell(0, self.LINE_HEIGHT, line, link=link)\n",
    "            self.ln()\n",
    "\n",
    "LOREM_IPSUM = ('blah')\n",
    "\n",
    "def main():\n",
    "    doc = StructuredPDF()\n",
    "    doc.alias_nb_pages()\n",
    "    links = []\n",
    "    num_chapters = randint(5,40)\n",
    "    for index in range(1,num_chapters):\n",
    "        chapter_title = f'Chapter {index}'\n",
    "        num_par = randint(10,15)\n",
    "        link, page = doc.chapter(chapter_title, [LOREM_IPSUM]*num_par)\n",
    "        links.append((chapter_title,page,link))\n",
    "    doc.toc(links)\n",
    "    doc.output('junk-toc.pdf')\n",
    "\n",
    "if __name__ == '__main__':\n",
    "    main()"
   ]
  },
  {
   "cell_type": "markdown",
   "metadata": {},
   "source": [
    "### Watermarking and encrypting a PDF\n",
    "`pdf2image==1.11.0` -- before combining section. Need `brew install poppler` on Mac, [or other platform](https://github.com/Belval/pdf2image#first-you-need-pdftoppm), Before that, neeed to install homebrew: `/bin/bash -c \"$(curl -fsSL https://raw.githubusercontent.com/Homebrew/install/HEAD/install.sh)\"`\n",
    "\n",
    "Finally, here's `ch05-watermarking_pdf.py`"
   ]
  },
  {
   "cell_type": "code",
   "execution_count": 32,
   "metadata": {},
   "outputs": [],
   "source": [
    "import PyPDF2\n",
    "\n",
    "def encrypt(out_pdf, password):\n",
    "    in_file = open(out_pdf, 'rb')\n",
    "    input_pdf = PyPDF2.PdfFileReader(in_file)\n",
    "    output_pdf = PyPDF2.PdfFileWriter()\n",
    "    output_pdf.appendPagesFromReader(input_pdf)\n",
    "    output_pdf.encrypt(password)\n",
    "    INTERMEDIATE_ENCRYPT_FILE = 'temp.pdf'\n",
    "    with open(INTERMEDIATE_ENCRYPT_FILE, 'wb') as out_file:\n",
    "        output_pdf.write(out_file)\n",
    "    in_file.close()\n",
    "    os.rename(INTERMEDIATE_ENCRYPT_FILE,out_pdf)\n",
    "\n",
    "from PIL import Image, ImageDraw, ImageFont\n",
    "def create_watermark(watermarked_by):\n",
    "    WATERMARK_SIZE = (200, 200)\n",
    "    mask = Image.new('L', WATERMARK_SIZE, 0) # L -- gray? 0 -- white?\n",
    "    draw = ImageDraw.Draw(mask)\n",
    "    font = ImageFont.load_default()\n",
    "    text = 'WATERMARKED BY {}\\n{}'.format(watermarked_by,datetime.now())\n",
    "    draw.multiline_text((0,100), text, 55, font=font)\n",
    "    \n",
    "    watermark = Image.new('RGB', WATERMARK_SIZE)\n",
    "    watermark.putalpha(mask)\n",
    "\n"
   ]
  },
  {
   "cell_type": "markdown",
   "metadata": {},
   "source": [
    "### Aggregating PDF reports\n",
    "`pdf2image==1.11.0` Combine two PDF's: `junk-report-toc.pdf` and\n",
    "`python ch05-watermarking_pdf.py junk-report-toc.pdf -u automate_user -o junk-report-water.pdf`"
   ]
  }
 ],
 "metadata": {
  "kernelspec": {
   "display_name": "Python 3.10.5 ('.venv': venv)",
   "language": "python",
   "name": "python3"
  },
  "language_info": {
   "codemirror_mode": {
    "name": "ipython",
    "version": 3
   },
   "file_extension": ".py",
   "mimetype": "text/x-python",
   "name": "python",
   "nbconvert_exporter": "python",
   "pygments_lexer": "ipython3",
   "version": "3.10.5"
  },
  "orig_nbformat": 4,
  "vscode": {
   "interpreter": {
    "hash": "b3fb195f1769707917c36734594a5b5cdfc69d3756177959b80c085aef1025cd"
   }
  }
 },
 "nbformat": 4,
 "nbformat_minor": 2
}

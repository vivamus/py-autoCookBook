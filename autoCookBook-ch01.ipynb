{
 "cells": [
  {
   "cell_type": "markdown",
   "metadata": {},
   "source": [
    "# Chapter 1. Begin\n",
    "\n",
    "### Activating virtual environment\n",
    "```\n",
    "$ cd mydir; python3 -m venv .venv \n",
    "$ source .venv/bin/activate \n",
    "(.venv) $ which python\n",
    "/root_dir/.venv/bin/python\n",
    "(.venv) $ deactivate\n",
    "$ which python3\n",
    "/usr/local/bin/python3\n",
    "```\n",
    "__[venv documentation](https://docs.python.org/3/library/venv.html)__\n",
    "\n",
    "Install packages: create file `requirements.txt`\n",
    "```\n",
    "delorean==1.0.0\n",
    "requests==2.22.0\n",
    "```\n",
    "and install it:\n",
    "```\n",
    "$ pip install -r requirements.txt\n",
    "$ pip freeze   # just to check what installed\n",
    "```\n",
    "VSC: Ctrl-Shift-P -- Jupyter: Select Interpreter to Run Python code <br>\n",
    "Windows in PowerShellAdmin: Set-ExecutionPolicy -Scope CurrentUser -ExecutionPolicy Unrestricted"
   ]
  },
  {
   "cell_type": "code",
   "execution_count": 2,
   "metadata": {},
   "outputs": [
    {
     "name": "stdout",
     "output_type": "stream",
     "text": [
      "c:\\usr\\yuri\\python\\.venv\\Scripts\\python.exe\n"
     ]
    }
   ],
   "source": [
    "import sys\n",
    "print(sys.executable)"
   ]
  },
  {
   "cell_type": "markdown",
   "metadata": {},
   "source": [
    "### Creating strings with formatted values"
   ]
  },
  {
   "cell_type": "code",
   "execution_count": 3,
   "metadata": {},
   "outputs": [
    {
     "data": {
      "text/plain": [
       "'example 1 here 2 again'"
      ]
     },
     "execution_count": 3,
     "metadata": {},
     "output_type": "execute_result"
    }
   ],
   "source": [
    "\"example {} here\".format(\"STRING\")\n",
    "\"example {} here {} again\".format(1.23, \"STRING\")\n",
    "\"example {1} here {0} again\".format(1.23, \"STRING\")\n",
    "\"example {first} here {second} again\".format(first=1, second=2)"
   ]
  },
  {
   "cell_type": "code",
   "execution_count": 5,
   "metadata": {},
   "outputs": [
    {
     "name": "stdout",
     "output_type": "stream",
     "text": [
      "REVENUE | PROFIT | PERCENT\n",
      "  1,000 |    +10 |   1.00%\n",
      "    200 |    -10 |  -5.00%\n",
      "    300 |    +20 |   6.67%\n"
     ]
    }
   ],
   "source": [
    "# TEMPLATES\n",
    "data = [\n",
    "    (1000,10),\n",
    "    (200,-10),\n",
    "    (300,20)\n",
    "]\n",
    "print(\"REVENUE | PROFIT | PERCENT\")  #header\n",
    "TEMPLATE = '{revenue:>7,} | {profit:>+6} | {percent:>7.2%}'\n",
    "# after parameter : separates format definition\n",
    "# width 7, aligns right >\n",
    "# , for 1,000    + adds + for positive, .2 precision\n",
    "for revenue, profit in data:\n",
    "    row = TEMPLATE.format(revenue=revenue, profit=profit, percent=profit/revenue)\n",
    "    print(row)"
   ]
  },
  {
   "cell_type": "code",
   "execution_count": 2,
   "metadata": {},
   "outputs": [
    {
     "name": "stdout",
     "output_type": "stream",
     "text": [
      "Parameters first:second\n"
     ]
    },
    {
     "data": {
      "text/plain": [
       "'Curly brackets twice: {VALUE}'"
      ]
     },
     "execution_count": 2,
     "metadata": {},
     "output_type": "execute_result"
    }
   ],
   "source": [
    "# f-strings\n",
    "param1 = 'first'\n",
    "param2 = 'second'\n",
    "print( f'Parameters {param1}:{param2}' )\n",
    "value = 'VALUE'\n",
    "f'Curly brackets twice: {{{value}}}' # used in meta-templates"
   ]
  },
  {
   "cell_type": "markdown",
   "metadata": {},
   "source": [
    "__[pyformat.info](https://pyformat.info/)__  <br>\n",
    "__[docs.python.org formatspec](https://docs.python.org/3/library/string.html#formatspec)__"
   ]
  },
  {
   "cell_type": "markdown",
   "metadata": {},
   "source": [
    "### Manipulating Strings\n",
    "Eliminate numbers, newlines after period, 80-char, ascii-only"
   ]
  },
  {
   "cell_type": "code",
   "execution_count": 8,
   "metadata": {},
   "outputs": [
    {
     "name": "stdout",
     "output_type": "stream",
     "text": [
      " After The Close Of The Second Quarter, Our Company, Casta?Acorp Has Achieved A\n",
      " Growth In The Revenue Of X.Xx%.\n",
      "\n",
      " This Is In Line With The Objectives For The Year.\n",
      "\n",
      " The Main Driver Of The Sales Has Been The New Package Designed Under The\n",
      " Supervision Of Our Marketing Department.\n",
      "\n",
      " Our Expenses Has Been Contained, Increasing Only By X.X%, Though The Board\n",
      " Considers It Needs To Be Further Reduced.\n",
      "\n",
      " The Evaluation Is Satisfactory And The Forecast For The Next Quarter Is\n",
      " Optimistic.\n",
      "\n"
     ]
    }
   ],
   "source": [
    "INPUT_TEXT = ''' AFTER THE CLOSE OF THE SECOND QUARTER, OUR COMPANY, CASTAÑACORP\n",
    "HAS ACHIEVED A GROWTH IN THE REVENUE OF 7.47%. THIS IS IN LINE\n",
    "WITH THE OBJECTIVES FOR THE YEAR. THE MAIN DRIVER OF THE SALES HAS BEEN\n",
    "THE NEW PACKAGE DESIGNED UNDER THE SUPERVISION OF OUR MARKETING DEPARTMENT.\n",
    "OUR EXPENSES HAS BEEN CONTAINED, INCREASING ONLY BY 0.7%, THOUGH THE BOARD\n",
    "CONSIDERS IT NEEDS TO BE FURTHER REDUCED. THE EVALUATION IS SATISFACTORY\n",
    "AND THE FORECAST FOR THE NEXT QUARTER IS OPTIMISTIC. THE BOARD EXPECTS\n",
    "AN INCREASE IN PROFIT OF AT LEAST 2 MILLION DOLLARS.'''\n",
    "words = INPUT_TEXT.split()  # default separators: ws \\n\n",
    "# replace numbers with X\n",
    "no_num = [ ''.join('X' if c.isdigit() else c for c in word) \n",
    "    for word in words]\n",
    "# string -> bytes -> string\n",
    "ascii_only = [ word.encode('ascii', errors='replace').decode('ascii')\n",
    "    for word in no_num]\n",
    "newlines = [ word + '\\n' if word.endswith('.') else word    for word in ascii_only]\n",
    "LINE_SIZE = 80\n",
    "lines = []; line = ''\n",
    "for word in newlines:\n",
    "    if line.endswith('\\n') or len(line) + len(word) + 1 > LINE_SIZE:\n",
    "        lines.append(line) # newline\n",
    "        line = ''\n",
    "    line = line + ' ' + word\n",
    "# Title lines, join\n",
    "lines = [line.title()  for line in lines]\n",
    "result = '\\n'.join(lines)\n",
    "print(result)"
   ]
  },
  {
   "cell_type": "markdown",
   "metadata": {},
   "source": [
    "__[encode/decode](https://eli.thegreenplace.net/2012/01/30/the-bytesstr-dichotomy-in-python-3)__<br>\n",
    "__[strings](https://diveintopython3.net/strings.html)__ <br>\n",
    " __[textwrap_module](https://docs.python.org/3/library/textwrap.html)__  "
   ]
  },
  {
   "cell_type": "markdown",
   "metadata": {},
   "source": [
    "### Extracting data from structured strings\n",
    "`[<Timestamp in iso format>] - SALE - PRODUCT: <product id> - PRICE: $<price of the sale>`"
   ]
  },
  {
   "cell_type": "code",
   "execution_count": 16,
   "metadata": {},
   "outputs": [
    {
     "data": {
      "text/plain": [
       "(Delorean(datetime=datetime.datetime(2018, 5, 5, 11, 7, 12, 267897), timezone='UTC'),\n",
       " 1345,\n",
       " Decimal('9.99'))"
      ]
     },
     "execution_count": 16,
     "metadata": {},
     "output_type": "execute_result"
    }
   ],
   "source": [
    "import delorean\n",
    "from decimal import Decimal\n",
    "log = '[2018-05-05T11:07:12.267897] - SALE - PRODUCT: 1345 - PRICE: $09.99'\n",
    "divide_it = log.split(' - ')\n",
    "timestamp_str, _, product_str, price_str = divide_it\n",
    "timestamp = delorean.parse(timestamp_str.strip('[]'))\n",
    "product_id = int(product_str.split(':')[-1])\n",
    "price = Decimal(price_str.split('$')[-1])\n",
    "timestamp, product_id, price"
   ]
  },
  {
   "cell_type": "markdown",
   "metadata": {},
   "source": [
    "Python class"
   ]
  },
  {
   "cell_type": "code",
   "execution_count": 32,
   "metadata": {},
   "outputs": [
    {
     "data": {
      "text/plain": [
       "<PriceLog(Delorean(datetime=datetime.datetime(2018, 5, 5, 12, 58, 59, 998903), timezone='UTC'), 897, 17.99)>"
      ]
     },
     "execution_count": 32,
     "metadata": {},
     "output_type": "execute_result"
    }
   ],
   "source": [
    "class PriceLog(object):\n",
    "    def __init__(self,timestamp,product_id,price):\n",
    "        self.timestamp = timestamp\n",
    "        self.product_id = product_id\n",
    "        self.price = price\n",
    "    def __repr__(self):\n",
    "        return '<PriceLog({}, {}, {})>'.format(self.timestamp,self.product_id,self.price)\n",
    "    @classmethod\n",
    "    def parse(cls,log):  #cls is reference to class passed as a first arg in classmethod\n",
    "        '''\n",
    "        Parse from a text log with the format\n",
    "            [<Timestamp>] - SALE - PRODUCT: <product id> - PRICE: $<price>\n",
    "        to a PriceLog object\n",
    "        '''\n",
    "        divide_it = log.split(' - ')\n",
    "        timestamp_str, _, product_str, price_str = divide_it\n",
    "        timestamp = delorean.parse(timestamp_str.strip('[]'))\n",
    "        product_id = int(product_str.split(':')[-1])\n",
    "        price = Decimal(price_str.split('$')[-1])\n",
    "        return cls(timestamp=timestamp, product_id=product_id, price=price)\n",
    "\n",
    "log = '[2018-05-05T12:58:59.998903] - SALE - PRODUCT: 897 - PRICE: $17.99'\n",
    "PriceLog.parse(log)"
   ]
  },
  {
   "cell_type": "markdown",
   "metadata": {},
   "source": [
    "To process $, multiplu by 100 and use Integer, or __[Decimal](https://docs.python.org/3.8/library/decimal.html)__\n",
    "\n",
    "### Using a third-party tool—parse\n",
    "__[module parse](https://github.com/r1chardj0n3s/parse)__\n",
    "\n",
    "Add `parse==1.14.0` and `$ pip install -r requirements.txt`"
   ]
  },
  {
   "cell_type": "code",
   "execution_count": 40,
   "metadata": {},
   "outputs": [
    {
     "data": {
      "text/plain": [
       "<Result () {'date': datetime.datetime(2018, 5, 6, 12, 58, 0, 714611), 'product': 1345, 'price': Decimal('9.99')}>"
      ]
     },
     "execution_count": 40,
     "metadata": {},
     "output_type": "execute_result"
    }
   ],
   "source": [
    "from parse import parse\n",
    "LOG = '[2018-05-06T12:58:00.714611] - SALE - PRODUCT: 1345 - PRICE: $09.99'\n",
    "FORMAT = '[{date}] - SALE - PRODUCT: {product} - PRICE: ${price}'   # all strings\n",
    "result = parse(FORMAT,LOG)\n",
    "result['date']\n",
    "\n",
    "# types -- 'ti' is timestep in ISO\n",
    "FORMAT = '[{date:ti}] - SALE - PRODUCT: {product:d} - PRICE: ${price:05.2f}'\n",
    "result = parse(FORMAT,LOG)\n",
    "\n",
    "# define custom decimal type to avoid floating\n",
    "def price(string):\n",
    "    return Decimal(string)\n",
    "FORMAT = '[{date:ti}] - SALE - PRODUCT: {product:d} - PRICE: ${price:price}'\n",
    "result = parse(FORMAT,LOG, {'price' : price})\n",
    "result"
   ]
  },
  {
   "cell_type": "code",
   "execution_count": 43,
   "metadata": {},
   "outputs": [
    {
     "name": "stdout",
     "output_type": "stream",
     "text": [
      "result>>>{}<<<< <Result () {'timestamp': Delorean(datetime=datetime.datetime(2018, 6, 5, 14, 58, 59, 51545), timezone='UTC'), 'product': 827, 'price': Decimal('22.25')}>\n"
     ]
    },
    {
     "data": {
      "text/plain": [
       "<PriceLog(Delorean(datetime=datetime.datetime(2018, 6, 5, 14, 58, 59, 51545), timezone='UTC'), 827, 22.25)>"
      ]
     },
     "execution_count": 43,
     "metadata": {},
     "output_type": "execute_result"
    }
   ],
   "source": [
    "import parse \n",
    "class PriceLog(object):\n",
    "    def __init__(self,timestamp,product_id,price):\n",
    "        self.timestamp = timestamp\n",
    "        self.product_id = product_id\n",
    "        self.price = price\n",
    "    def __repr__(self):\n",
    "        return '<PriceLog({}, {}, {})>'.format(self.timestamp,self.product_id,self.price)\n",
    "        \n",
    "    @classmethod\n",
    "    def parse(cls,log):\n",
    "        '''\n",
    "        Parse from a text log with the format\n",
    "            [<Timestamp>] - SALE - PRODUCT: <product id> - PRICE: $<price>\n",
    "        to a PriceLog object\n",
    "        '''\n",
    "        def price(string):\n",
    "            return Decimal(string)\n",
    "        def isodate(string):\n",
    "            return delorean.parse(string)\n",
    "        FORMAT = ('[{timestamp:isodate}] - SALE - PRODUCT: {product:d} - PRICE: ${price:price}')\n",
    "        formats_extra = {'price' : price, 'isodate' : isodate}\n",
    "        result = parse.parse(FORMAT,log,formats_extra)\n",
    "        print('result>>>{}<<<<',result)  # yuri's debug output\n",
    "        return cls(timestamp=result['timestamp'], product_id=result['product'], price=result['price'])\n",
    "\n",
    "log = '[2018-05-06T14:58:59.051545] - SALE - PRODUCT: 827 - PRICE: $22.25'\n",
    "PriceLog.parse(log)"
   ]
  },
  {
   "cell_type": "markdown",
   "metadata": {},
   "source": [
    "### Introducing regular expressions\n",
    "re.search()"
   ]
  },
  {
   "cell_type": "code",
   "execution_count": 3,
   "metadata": {},
   "outputs": [
    {
     "data": {
      "text/plain": [
       "<re.Match object; span=(3, 6), match='PAT'>"
      ]
     },
     "execution_count": 3,
     "metadata": {},
     "output_type": "execute_result"
    }
   ],
   "source": [
    "import re\n",
    "re.search(r'PAT', 'STRPAT')"
   ]
  },
  {
   "cell_type": "code",
   "execution_count": 4,
   "metadata": {},
   "outputs": [],
   "source": [
    "re.search(r'PAT', 'no match')"
   ]
  },
  {
   "cell_type": "code",
   "execution_count": 5,
   "metadata": {},
   "outputs": [
    {
     "data": {
      "text/plain": [
       "('some', 'thing', ' in the things she shows me')"
      ]
     },
     "execution_count": 5,
     "metadata": {},
     "output_type": "execute_result"
    }
   ],
   "source": [
    "STRING = 'something in the things she shows me'\n",
    "match = re.search(r'thing', STRING)\n",
    "STRING[:match.start()],   STRING[match.start():match.end()],   STRING[match.end():]"
   ]
  },
  {
   "cell_type": "code",
   "execution_count": 6,
   "metadata": {},
   "outputs": [
    {
     "data": {
      "text/plain": [
       "('something in the ', 'thing', 's she shows me')"
      ]
     },
     "execution_count": 6,
     "metadata": {},
     "output_type": "execute_result"
    }
   ],
   "source": [
    "match = re.search(r'\\bthing', STRING)  # now with \\b\n",
    "STRING[:match.start()],   STRING[match.start():match.end()],   STRING[match.end():]"
   ]
  },
  {
   "cell_type": "code",
   "execution_count": 8,
   "metadata": {},
   "outputs": [
    {
     "data": {
      "text/plain": [
       "'qw1@r2ty.com'"
      ]
     },
     "execution_count": 8,
     "metadata": {},
     "output_type": "execute_result"
    }
   ],
   "source": [
    "STRING = 'my email is qw1@r2ty.com'  # http://emailregex.com/\n",
    "PAT = r\"([a-zA-Z0-9_.+-]+@[a-zA-Z0-9-]+\\.[a-zA-Z0-9-.]+)\"\n",
    "re.search(PAT,STRING).group()  "
   ]
  },
  {
   "cell_type": "markdown",
   "metadata": {},
   "source": [
    "### Going deeper into regular expressions\n",
    "__[Python 're' documentation](https://docs.python.org/3/library/re.html)__"
   ]
  },
  {
   "cell_type": "code",
   "execution_count": 14,
   "metadata": {},
   "outputs": [
    {
     "data": {
      "text/plain": [
       "'1-408-123-5467'"
      ]
     },
     "execution_count": 14,
     "metadata": {},
     "output_type": "execute_result"
    }
   ],
   "source": [
    "import re\n",
    "match = re.search(r'phone number is ([\\d-]+)', 'My phone number is 1-408-123-5467 blah.')\n",
    "match.group()\n",
    "match.group(1)"
   ]
  },
  {
   "cell_type": "code",
   "execution_count": 36,
   "metadata": {},
   "outputs": [
    {
     "data": {
      "text/plain": [
       "'1234-567-890'"
      ]
     },
     "execution_count": 36,
     "metadata": {},
     "output_type": "execute_result"
    }
   ],
   "source": [
    "match = re.search(r'phone number is ([\\d-]+)', 'My phone number is 1234-567-890\\.')\n",
    "match.group()  # same as group[0] -- whole match\n",
    "match.group(1)"
   ]
  },
  {
   "cell_type": "code",
   "execution_count": 43,
   "metadata": {},
   "outputs": [
    {
     "data": {
      "text/plain": [
       "('3b', 'YES')"
      ]
     },
     "execution_count": 43,
     "metadata": {},
     "output_type": "execute_result"
    }
   ],
   "source": [
    "PAT = re.compile(r'answer to question (\\w+) is (yes|no)', re.IGNORECASE)\n",
    "PAT.search('and answer to question 3b is YES')\n",
    "PAT.search('and answer to question 3b is YES').groups()"
   ]
  },
  {
   "cell_type": "code",
   "execution_count": 46,
   "metadata": {},
   "outputs": [
    {
     "data": {
      "text/plain": [
       "('Odessa', 'TX')"
      ]
     },
     "execution_count": 46,
     "metadata": {},
     "output_type": "execute_result"
    }
   ],
   "source": [
    "#  +? -- non-greedy match\n",
    "PAT = re.compile(r'([A-Z][\\w\\s]+?).(TX|OR|OH|MI)')\n",
    "TEXT ='''\n",
    "the jackalopes are the team of Odessa,TX while the knights are native of Corvallis OR \n",
    "and the mud hens come from Toledo.OH; the whitecaps have their base in Grand Rapids,MI\n",
    "'''\n",
    "list(PAT.finditer(TEXT))\n",
    "_[0].groups()"
   ]
  },
  {
   "cell_type": "code",
   "execution_count": 51,
   "metadata": {},
   "outputs": [
    {
     "data": {
      "text/plain": [
       "[('Odessa', 'TX'),\n",
       " ('Corvallis', 'OR'),\n",
       " ('Toledo', 'OH'),\n",
       " ('Grand Rapids', 'MI')]"
      ]
     },
     "execution_count": 51,
     "metadata": {},
     "output_type": "execute_result"
    }
   ],
   "source": [
    "# search() returns only first object\n",
    "PAT.findall(TEXT)"
   ]
  },
  {
   "cell_type": "code",
   "execution_count": 57,
   "metadata": {},
   "outputs": [
    {
     "data": {
      "text/plain": [
       "'Odessa'"
      ]
     },
     "execution_count": 57,
     "metadata": {},
     "output_type": "execute_result"
    }
   ],
   "source": [
    "# groups can be named -- (?P<groupname>PATTERN)\n",
    "# referred by .group(groupname) or groupdict()\n",
    "PAT = re.compile(r'(?P<city>[A-Z][\\w\\s]+?).(?P<state>TX|OR|OH|MI)')\n",
    "match = PAT.search(TEXT)\n",
    "match.group(1), match.group(2)\n",
    "match.groupdict()\n",
    "match.group('city')\n"
   ]
  },
  {
   "cell_type": "markdown",
   "metadata": {},
   "source": [
    "### Adding command-line arguments\n",
    "__[documentation of argparse module](https://docs.python.org/3/library/argparse.html)__"
   ]
  },
  {
   "cell_type": "code",
   "execution_count": 64,
   "metadata": {},
   "outputs": [
    {
     "name": "stderr",
     "output_type": "stream",
     "text": [
      "usage: ipykernel_launcher.py [-h] [-c C] number\n",
      "ipykernel_launcher.py: error: the following arguments are required: number\n"
     ]
    },
    {
     "ename": "SystemExit",
     "evalue": "2",
     "output_type": "error",
     "traceback": [
      "An exception has occurred, use %tb to see the full traceback.\n",
      "\u001b[1;31mSystemExit\u001b[0m\u001b[1;31m:\u001b[0m 2\n"
     ]
    }
   ],
   "source": [
    "import argparse\n",
    "#The _main_ function makes it easy to know what the entry point for the code is\n",
    "def main(c, number):\n",
    "    print(c * number)\n",
    "\n",
    "if __name__ == '__main__':\n",
    "    parser = argparse.ArgumentParser()\n",
    "    parser.add_argument('number', type=int, help='M-factor') # which args to accept\n",
    "    parser.add_argument('-c', type=str, help='char to print', default='#') \n",
    "    args = parser.parse_args()\n",
    "    main(args.c, args.number)  "
   ]
  },
  {
   "cell_type": "code",
   "execution_count": null,
   "metadata": {},
   "outputs": [],
   "source": []
  }
 ],
 "metadata": {
  "kernelspec": {
   "display_name": "Python 3.10.5 ('.venv': venv)",
   "language": "python",
   "name": "python3"
  },
  "language_info": {
   "codemirror_mode": {
    "name": "ipython",
    "version": 3
   },
   "file_extension": ".py",
   "mimetype": "text/x-python",
   "name": "python",
   "nbconvert_exporter": "python",
   "pygments_lexer": "ipython3",
   "version": "3.10.5"
  },
  "orig_nbformat": 4,
  "vscode": {
   "interpreter": {
    "hash": "a18ba5916198a4e91bc91e0040e3b9324c5a188c1c2e11edc6402aabffdf1e91"
   }
  }
 },
 "nbformat": 4,
 "nbformat_minor": 2
}

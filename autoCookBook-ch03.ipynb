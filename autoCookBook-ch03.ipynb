{
 "cells": [
  {
   "cell_type": "markdown",
   "metadata": {},
   "source": [
    "# Chapter 3. First Web Scrapping\n",
    "### Downloading web pages (p. 72)\n",
    "`$ echo \"requests==2.23.0\" >> requirements.txt` -- had to change to 2.22.0 <br>\n",
    "Will download __[this columbia sample wep page](http://www.columbia.edu/~fdc/sample.html)__"
   ]
  },
  {
   "cell_type": "code",
   "execution_count": 1,
   "metadata": {},
   "outputs": [],
   "source": [
    "import requests\n",
    "url = 'http://www.columbia.edu/~fdc/sample.html'\n",
    "response = requests.get(url)"
   ]
  }
 ],
 "metadata": {
  "kernelspec": {
   "display_name": "Python 3.10.5 ('.venv': venv)",
   "language": "python",
   "name": "python3"
  },
  "language_info": {
   "codemirror_mode": {
    "name": "ipython",
    "version": 3
   },
   "file_extension": ".py",
   "mimetype": "text/x-python",
   "name": "python",
   "nbconvert_exporter": "python",
   "pygments_lexer": "ipython3",
   "version": "3.10.5"
  },
  "orig_nbformat": 4,
  "vscode": {
   "interpreter": {
    "hash": "b9c68485fc2ca22e89981470a9b901ee6a2b3827ae489e275685bf84f6ed5b5a"
   }
  }
 },
 "nbformat": 4,
 "nbformat_minor": 2
}

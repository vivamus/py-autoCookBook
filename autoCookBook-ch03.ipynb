{
 "cells": [
  {
   "cell_type": "markdown",
   "metadata": {},
   "source": [
    "# Chapter 3. First Web Scrapping\n",
    "### Downloading web pages (p. 72)\n",
    "`$ echo \"requests==2.23.0\" >> requirements.txt` -- had to change to 2.22.0 <br>\n",
    "Will download __[this columbia sample wep page](http://www.columbia.edu/~fdc/sample.html)__"
   ]
  },
  {
   "cell_type": "code",
   "execution_count": 8,
   "metadata": {},
   "outputs": [
    {
     "data": {
      "text/plain": [
       "'http://www.columbia.edu/~fdc/sample.html'"
      ]
     },
     "execution_count": 8,
     "metadata": {},
     "output_type": "execute_result"
    }
   ],
   "source": [
    "import requests\n",
    "url = 'http://www.columbia.edu/~fdc/sample.html'\n",
    "response = requests.get(url)\n",
    "response.status_code\n",
    "response.text\n",
    "response.headers\n",
    "response.request.headers\n",
    "response.request\n",
    "response.request.url"
   ]
  },
  {
   "cell_type": "markdown",
   "metadata": {},
   "source": [
    "__[request module docs](https://requests.readthedocs.io/en/master/)__ <br>\n",
    "__[status codes](https://httpstatuses.com/)__ They are also described in the `http.HTTPStatus` enum with convenient constant names, such as OK, NOT_FOUND, or FORBIDDEN\n",
    "\n",
    "`$ echo \"beautifulsoup4==4.8.2\" >> requirements.txt`   __[Beautiful Soup doc](https://www.crummy.com/software/BeautifulSoup/bs4/doc/)__"
   ]
  },
  {
   "cell_type": "code",
   "execution_count": 12,
   "metadata": {},
   "outputs": [
    {
     "data": {
      "text/plain": [
       "[<h3 id=\"contents\">CONTENTS</h3>,\n",
       " <h3 id=\"basics\">1. Creating a Web Page</h3>,\n",
       " <h3 id=\"syntax\">2. HTML Syntax</h3>,\n",
       " <h3 id=\"chars\">3. Special Characters</h3>,\n",
       " <h3 id=\"convert\">4. Converting Plain Text to HTML</h3>,\n",
       " <h3 id=\"effects\">5. Effects</h3>,\n",
       " <h3 id=\"lists\">6. Lists</h3>,\n",
       " <h3 id=\"links\">7. Links</h3>,\n",
       " <h3 id=\"tables\">8. Tables</h3>,\n",
       " <h3 id=\"viewing\">9. Viewing Your Web Page</h3>,\n",
       " <h3 id=\"install\">10. Installing Your Web Page on the Internet</h3>,\n",
       " <h3 id=\"more\">11. Where to go from here</h3>,\n",
       " <h3 id=\"fluid\">12. Postscript: Cell Phones</h3>]"
      ]
     },
     "execution_count": 12,
     "metadata": {},
     "output_type": "execute_result"
    }
   ],
   "source": [
    "import requests\n",
    "from bs4 import BeautifulSoup\n",
    "url = 'http://www.columbia.edu/~fdc/sample.html'\n",
    "response = requests.get(url)\n",
    "\n",
    "page = BeautifulSoup(response.text, 'html.parser')\n",
    "page.title\n",
    "page.title.string\n",
    "page.find_all('h3')"
   ]
  },
  {
   "cell_type": "markdown",
   "metadata": {},
   "source": [
    "Extract the text on the section for Special Characters. Stop when you reach the next `<h3>` tag:"
   ]
  },
  {
   "cell_type": "code",
   "execution_count": 19,
   "metadata": {},
   "outputs": [
    {
     "data": {
      "text/plain": [
       "'3. Special Characters\\n\\nHTML special \"character entities\" start with ampersand (&&) and\\nend with semicolon (;;), like \"&euro;&euro;\" = \"€\".  The\\never-popular \"no-break space\" is &nbsp;&nbsp;.  There are special\\nentity names for accented Latin letters and other West European special\\ncharacters such as:\\n\\n\\n\\n\\n\\n\\n&auml;&auml;\\na-umlaut\\n\\xa0ä\\xa0\\n\\n\\n&Auml;&Auml;\\nA-umlaut \\n\\xa0Ä\\xa0\\n\\n\\n&aacute;&aacute;\\na-acute \\n\\xa0á\\xa0\\n\\n\\n&agrave;&agrave;\\na-grave \\n\\xa0à\\xa0\\n\\n\\n&ntilde;&ntilde;\\nn-tilde \\n\\xa0ñ\\xa0\\n\\n\\n&szlig;&szlig;\\nGerman double-s\\n\\xa0ß\\xa0\\n\\n\\n&thorn;&thorn;\\nIcelandic thorn \\n\\xa0þ\\xa0\\n\\xa0þ\\xa0\\n\\n\\n\\n\\n\\n(The table above is shown in the basic, default style of HTML.  Of course\\nthere are many ways to customize the appearance of tables; more\\nabout this belowbelow.\\n\\n\\n\\nExamples:\\n\\n\\nFor SpanishSpanish you would need:\\n&Aacute;&Aacute; (Á),\\n&aacute;&aacute; (á),\\n&Eacute;&Eacute; (É),\\n&eacute;&eacute; (é),\\n&Iacute;&Iacute; (Í),\\n&iacute;&iacute; (í),\\n&Oacute;&Oacute; (Ó),\\n&oacute;&oacute; (ó),\\n&Uacute;&Uacute; (ú),\\n&uacute;&uacute; (ú),\\n&Uuml;&Uuml; (Ü),\\n&uuml;&uuml; (ü),\\n&Ntilde;&Ntilde; (Ñ),\\n&ntilde;&ntilde; (ñ);\\n&iquest;&iquest; (¿);\\n&iexcl;&iexcl; (¡).\\nExample: Añorarán = A&ntilde;orar&aacute;nA&ntilde;orar&aacute;n.\\n\\n\\nFor GermanGerman you would need:\\n&Auml;&Auml; (Ä),\\n&auml;&auml; (ä),\\n&Ouml;&Ouml; (Ö),\\n&ouml;&ouml; (ö),\\n&Uuml;&Uuml; (ü),\\n&uuml;&uuml; (ü),\\n&szlig;&szlig; (ß).\\nExample: Grüße aus Köln = Gr&uuml;&szlig;e aus K&ouml;lnGr&uuml;&szlig;e aus K&ouml;ln.\\n\\n\\n\\nCLICK HERECLICK HERE\\nfor a complete list.  When the page encoding is\\nUTF-8UTF-8, which is\\nrecommended, you can also enter any character at all, Roman,\\nCyrillic, Arabic, Hebrew, Greek. Japanese,\\netc, either as numeric entities or (if you have a way to type them) directly\\nfrom the keyboard.\\n\\n\\n\\nAnd remember: if you want to\\ninclude <<, &&,\\nor >> literally in text to be displayed, you have\\nto write &lt;&lt;,\\n&amp;&amp;, &gt;&gt;, respectively.\\n\\n'"
      ]
     },
     "execution_count": 19,
     "metadata": {},
     "output_type": "execute_result"
    }
   ],
   "source": [
    "link_section = page.find('h3', attrs={'id':'chars'}) # tag <a>\n",
    "section = []\n",
    "for el in link_section.next_elements:\n",
    "    if el.name == 'h3':\n",
    "        break\n",
    "    section.append(el.string or '') # None if el has no text\n",
    "\n",
    "result = ''.join(section)\n",
    "result"
   ]
  },
  {
   "cell_type": "code",
   "execution_count": 21,
   "metadata": {},
   "outputs": [
    {
     "data": {
      "text/plain": [
       "[<h2>Do-It-Yourself Web Authoring - a beginner's HTML tutorial</h2>,\n",
       " <h3 id=\"contents\">CONTENTS</h3>,\n",
       " <h3 id=\"basics\">1. Creating a Web Page</h3>,\n",
       " <h3 id=\"syntax\">2. HTML Syntax</h3>,\n",
       " <h3 id=\"chars\">3. Special Characters</h3>,\n",
       " <h3 id=\"convert\">4. Converting Plain Text to HTML</h3>,\n",
       " <h3 id=\"effects\">5. Effects</h3>,\n",
       " <h3 id=\"lists\">6. Lists</h3>,\n",
       " <h3 id=\"links\">7. Links</h3>,\n",
       " <h3 id=\"tables\">8. Tables</h3>,\n",
       " <h3 id=\"viewing\">9. Viewing Your Web Page</h3>,\n",
       " <h3 id=\"install\">10. Installing Your Web Page on the Internet</h3>,\n",
       " <h3 id=\"more\">11. Where to go from here</h3>,\n",
       " <h3 id=\"fluid\">12. Postscript: Cell Phones</h3>]"
      ]
     },
     "execution_count": 21,
     "metadata": {},
     "output_type": "execute_result"
    }
   ],
   "source": [
    "import re\n",
    "page.find_all( re.compile('(h2|h3)'))  #regex in find_all"
   ]
  },
  {
   "cell_type": "markdown",
   "metadata": {},
   "source": [
    "### Crawling the web (p. 79)\n",
    "downloaded __[simple_delay_server.py](https://github.com/PacktPublishing/Python-Automation-Cookbook-Second-Edition/blob/master/Chapter03/crawling_web_step1.py)__\n",
    "`$ python ch03-simple_delay_server.py` <br>\n",
    "Check browser at __[http://localhost:8000](http://localhost:8000)__"
   ]
  },
  {
   "cell_type": "code",
   "execution_count": 24,
   "metadata": {},
   "outputs": [
    {
     "name": "stdout",
     "output_type": "stream",
     "text": [
      "usage: ch03-simple_delay_server.py [-h] [-p P] url\n",
      "ch03-simple_delay_server.py: error: the following arguments are required: url\n"
     ]
    }
   ],
   "source": [
    "!python ch03-simple_delay_server.py"
   ]
  },
  {
   "cell_type": "code",
   "execution_count": null,
   "metadata": {},
   "outputs": [],
   "source": []
  }
 ],
 "metadata": {
  "kernelspec": {
   "display_name": "Python 3.10.5 ('.venv': venv)",
   "language": "python",
   "name": "python3"
  },
  "language_info": {
   "codemirror_mode": {
    "name": "ipython",
    "version": 3
   },
   "file_extension": ".py",
   "mimetype": "text/x-python",
   "name": "python",
   "nbconvert_exporter": "python",
   "pygments_lexer": "ipython3",
   "version": "3.10.5"
  },
  "orig_nbformat": 4,
  "vscode": {
   "interpreter": {
    "hash": "b9c68485fc2ca22e89981470a9b901ee6a2b3827ae489e275685bf84f6ed5b5a"
   }
  }
 },
 "nbformat": 4,
 "nbformat_minor": 2
}

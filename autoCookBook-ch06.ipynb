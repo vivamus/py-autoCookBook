{
 "cells": [
  {
   "cell_type": "markdown",
   "metadata": {},
   "source": [
    "# Fun with Spreadsheets\n",
    "### Writing a CSV spreadsheet\n",
    "[csv dialects and special chars](https://docs.python.org/3/library/csv.html#dialects-and-formatting-parameters), also [python csv](https://docs.python.org/3/library/csv.html)"
   ]
  },
  {
   "cell_type": "code",
   "execution_count": 1,
   "metadata": {},
   "outputs": [],
   "source": [
    "import csv\n",
    "HEADER = ('Admissions', 'Name', 'Year')\n",
    "DATA = [\n",
    "    (225.7, 'Gone With the Wind', 1939),\n",
    "    (194.4, 'Star Wars', 1977),\n",
    "    (161.0, 'ET: The Extra-Terrestrial', 1982)\n",
    "]\n",
    "with open('junk-movies.csv', 'w', newline='') as csvfile:  # module handles newlines\n",
    "    movies = csv.writer(csvfile)\n",
    "    movies.writerow(HEADER)\n",
    "    for row in DATA:\n",
    "        movies.writerow(row)"
   ]
  },
  {
   "cell_type": "markdown",
   "metadata": {},
   "source": [
    "### Updating CSV files"
   ]
  }
 ],
 "metadata": {
  "kernelspec": {
   "display_name": "Python 3.10.5 ('.venv': venv)",
   "language": "python",
   "name": "python3"
  },
  "language_info": {
   "codemirror_mode": {
    "name": "ipython",
    "version": 3
   },
   "file_extension": ".py",
   "mimetype": "text/x-python",
   "name": "python",
   "nbconvert_exporter": "python",
   "pygments_lexer": "ipython3",
   "version": "3.10.5"
  },
  "orig_nbformat": 4,
  "vscode": {
   "interpreter": {
    "hash": "b9c68485fc2ca22e89981470a9b901ee6a2b3827ae489e275685bf84f6ed5b5a"
   }
  }
 },
 "nbformat": 4,
 "nbformat_minor": 2
}

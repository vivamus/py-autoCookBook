{
 "cells": [
  {
   "cell_type": "markdown",
   "metadata": {},
   "source": [
    "# Fun with Spreadsheets\n",
    "### Writing a CSV spreadsheet\n",
    "[csv dialects and special chars](https://docs.python.org/3/library/csv.html#dialects-and-formatting-parameters), also [python csv](https://docs.python.org/3/library/csv.html)"
   ]
  },
  {
   "cell_type": "code",
   "execution_count": 16,
   "metadata": {},
   "outputs": [],
   "source": [
    "import csv\n",
    "HEADER = ('Admissions', 'Name', 'Year')\n",
    "FILENAME = 'junk-movies.csv'\n",
    "DATA = [\n",
    "    (225.7, 'Gone With the Wind', 1939),\n",
    "    (194.4, 'Star Wars', 1977),\n",
    "    (161.0, 'ET: The Extra-Terrestrial', 1982)\n",
    "]\n",
    "with open(FILENAME, 'w', newline='') as csvfile:  # module handles newlines\n",
    "    movies = csv.writer(csvfile)\n",
    "    movies.writerow(HEADER)\n",
    "    for row in DATA:\n",
    "        movies.writerow(row)"
   ]
  },
  {
   "cell_type": "markdown",
   "metadata": {},
   "source": [
    "### Updating CSV files\n",
    "Modify one cell from `junk-movies.csv`"
   ]
  },
  {
   "cell_type": "code",
   "execution_count": 17,
   "metadata": {},
   "outputs": [
    {
     "name": "stdout",
     "output_type": "stream",
     "text": [
      "[{'Admissions': '225.7', 'Name': 'Gone With the Wind', 'Year': '1939'}, {'Admissions': '194.4', 'Name': 'Star Wars', 'Year': '1977'}, {'Admissions': '161.0', 'Name': 'ET: The Extra-Terrestrial', 'Year': '1982'}]\n"
     ]
    }
   ],
   "source": [
    "with open(FILENAME, newline='') as file:\n",
    "    data = [row for row in csv.DictReader(file)] # dict with header\n",
    "print(data)\n",
    "data[1]['Year'] = '1912'\n",
    "HEADER = data[0].keys()\n",
    "with open(FILENAME, 'w', newline='') as file:  \n",
    "    writer = csv.DictWriter(file, fieldnames=HEADER)\n",
    "    writer.writeheader()\n",
    "    writer.writerows(data)\n",
    "\n"
   ]
  },
  {
   "cell_type": "markdown",
   "metadata": {},
   "source": [
    "###  Reading an Excel spreadsheet\n",
    "`openpyxl==3.0.3` [doc](https://openpyxl.readthedocs.io/en/stable/index.html)"
   ]
  },
  {
   "cell_type": "code",
   "execution_count": 30,
   "metadata": {},
   "outputs": [
    {
     "name": "stdout",
     "output_type": "stream",
     "text": [
      "A1 1 1 B1 2 1 C1 3 1 D1 4 1 A2 1 2 B2 2 2 C2 3 2 D2 4 2 A3 1 3 B3 2 3 C3 3 3 D3 4 3 A4 1 4 B4 2 4 C4 3 4 D4 4 4 A5 1 5 B5 2 5 C5 3 5 D5 4 5 A6 1 6 B6 2 6 C6 3 6 D6 4 6 A7 1 7 B7 2 7 C7 3 7 D7 4 7 A8 1 8 B8 2 8 C8 3 8 D8 4 8 A9 1 9 B9 2 9 C9 3 9 D9 4 9 A10 1 10 B10 2 10 C10 3 10 D10 4 10 A11 1 11 B11 2 11 C11 3 11 D11 4 11 "
     ]
    }
   ],
   "source": [
    "import openpyxl\n",
    "xlsfile = openpyxl.load_workbook('ch06-movies.xlsx')\n",
    "xlsfile.sheetnames\n",
    "sheet = xlsfile['Sheet1']\n",
    "sheet['C3'].value\n",
    "sheet.max_row\n",
    "sheet.max_column\n",
    "for row in sheet:\n",
    "    for cell in row: # or sheet.cell(column, row)\n",
    "        print(cell.coordinate, cell.column, cell.row, end=' ')\n"
   ]
  },
  {
   "cell_type": "markdown",
   "metadata": {},
   "source": [
    "### Updating an Excel spreadsheet"
   ]
  },
  {
   "cell_type": "code",
   "execution_count": 35,
   "metadata": {},
   "outputs": [],
   "source": [
    "import openpyxl\n",
    "from openpyxl.comments import Comment\n",
    "xlsfile = openpyxl.load_workbook('ch06-movies.xlsx')\n",
    "sheet = xlsfile['Sheet1']\n",
    "sheet['D4'].value = 'F ' + sheet['D4'].value\n",
    "sheet['D4'].comment = Comment('Auto change comment', 'User')\n",
    "sheet['B12'] = '=SUM(B2:B11)'\n",
    "xlsfile.save('junk-movies-comment.xlsx')"
   ]
  },
  {
   "cell_type": "markdown",
   "metadata": {},
   "source": [
    "### Creating new sheets in an Excel spreadsheet"
   ]
  }
 ],
 "metadata": {
  "kernelspec": {
   "display_name": "Python 3.10.5 ('.venv': venv)",
   "language": "python",
   "name": "python3"
  },
  "language_info": {
   "codemirror_mode": {
    "name": "ipython",
    "version": 3
   },
   "file_extension": ".py",
   "mimetype": "text/x-python",
   "name": "python",
   "nbconvert_exporter": "python",
   "pygments_lexer": "ipython3",
   "version": "3.10.5"
  },
  "orig_nbformat": 4,
  "vscode": {
   "interpreter": {
    "hash": "b9c68485fc2ca22e89981470a9b901ee6a2b3827ae489e275685bf84f6ed5b5a"
   }
  }
 },
 "nbformat": 4,
 "nbformat_minor": 2
}

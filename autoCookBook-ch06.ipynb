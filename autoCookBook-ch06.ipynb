{
 "cells": [
  {
   "cell_type": "markdown",
   "metadata": {},
   "source": [
    "# Fun with Spreadsheets\n",
    "### Writing a CSV spreadsheet\n",
    "[csv dialects and special chars](https://docs.python.org/3/library/csv.html#dialects-and-formatting-parameters), also [python csv](https://docs.python.org/3/library/csv.html)"
   ]
  },
  {
   "cell_type": "code",
   "execution_count": 16,
   "metadata": {},
   "outputs": [],
   "source": [
    "import csv\n",
    "HEADER = ('Admissions', 'Name', 'Year')\n",
    "FILENAME = 'junk-movies.csv'\n",
    "DATA = [\n",
    "    (225.7, 'Gone With the Wind', 1939),\n",
    "    (194.4, 'Star Wars', 1977),\n",
    "    (161.0, 'ET: The Extra-Terrestrial', 1982)\n",
    "]\n",
    "with open(FILENAME, 'w', newline='') as csvfile:  # module handles newlines\n",
    "    movies = csv.writer(csvfile)\n",
    "    movies.writerow(HEADER)\n",
    "    for row in DATA:\n",
    "        movies.writerow(row)"
   ]
  },
  {
   "cell_type": "markdown",
   "metadata": {},
   "source": [
    "### Updating CSV files\n",
    "Modify one cell from `junk-movies.csv`"
   ]
  },
  {
   "cell_type": "code",
   "execution_count": 17,
   "metadata": {},
   "outputs": [
    {
     "name": "stdout",
     "output_type": "stream",
     "text": [
      "[{'Admissions': '225.7', 'Name': 'Gone With the Wind', 'Year': '1939'}, {'Admissions': '194.4', 'Name': 'Star Wars', 'Year': '1977'}, {'Admissions': '161.0', 'Name': 'ET: The Extra-Terrestrial', 'Year': '1982'}]\n"
     ]
    }
   ],
   "source": [
    "with open(FILENAME, newline='') as file:\n",
    "    data = [row for row in csv.DictReader(file)] # dict with header\n",
    "print(data)\n",
    "data[1]['Year'] = '1912'\n",
    "HEADER = data[0].keys()\n",
    "with open(FILENAME, 'w', newline='') as file:  \n",
    "    writer = csv.DictWriter(file, fieldnames=HEADER)\n",
    "    writer.writeheader()\n",
    "    writer.writerows(data)\n",
    "\n"
   ]
  },
  {
   "cell_type": "markdown",
   "metadata": {},
   "source": [
    "###  Reading an Excel spreadsheet\n",
    "`openpyxl==3.0.3`"
   ]
  }
 ],
 "metadata": {
  "kernelspec": {
   "display_name": "Python 3.10.5 ('.venv': venv)",
   "language": "python",
   "name": "python3"
  },
  "language_info": {
   "codemirror_mode": {
    "name": "ipython",
    "version": 3
   },
   "file_extension": ".py",
   "mimetype": "text/x-python",
   "name": "python",
   "nbconvert_exporter": "python",
   "pygments_lexer": "ipython3",
   "version": "3.10.5"
  },
  "orig_nbformat": 4,
  "vscode": {
   "interpreter": {
    "hash": "b9c68485fc2ca22e89981470a9b901ee6a2b3827ae489e275685bf84f6ed5b5a"
   }
  }
 },
 "nbformat": 4,
 "nbformat_minor": 2
}

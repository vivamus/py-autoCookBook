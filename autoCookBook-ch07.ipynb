{
 "cells": [
  {
   "cell_type": "markdown",
   "metadata": {},
   "source": [
    "# Cleaning and Processing Data\n",
    "### Preparing a CSV spreadsheet\n",
    "import data to csv: `python ch07-logs_to_csv.py ch07-sale_logs/OH/logs.txt junk-output_1_OH.csv -l OH` <br>\n",
    "Here portions of `price_log.py`:"
   ]
  },
  {
   "cell_type": "code",
   "execution_count": 4,
   "metadata": {},
   "outputs": [],
   "source": [
    "import parse\n",
    "from decimal import Decimal\n",
    "class PriceLog(object):\n",
    "    def __init__(self,location,timestamp,product_id,price):\n",
    "        self.timestamp = timestamp\n",
    "        self.product_id = product_id\n",
    "        self.location = location\n",
    "        self.price = price\n",
    "\n",
    "    @classmethod\n",
    "    def parse(cls,location,text_log):\n",
    "        '''\n",
    "        Parse from a text log with the format\n",
    "        [<Timestamp>] - SALE - PRODUCT: <product id> - PRICE:price>\n",
    "        to a PriceLog object. It requires a location\n",
    "        '''  \n",
    "        def price(string):\n",
    "            return Decimal(string)\n",
    "        FORMAT = ('[{timestamp}] - SALE PRODUCT: {product:d} - PRICE: {price:price}')\n",
    "        formats = {'price': price}\n",
    "        result = parse.parse(FORMAT, text_log, formats)\n",
    "        return cls(location=location, timestamp=result['timestamp'],product_id=result['product'],price=result['price'])\n",
    "    @classmethod\n",
    "    def header(cls):\n",
    "        return ['LOCATION', 'TIMESTAMP', 'PRODUCT', 'PRICE']\n",
    "    def row(self):\n",
    "        return [self.location, self.timestamp, self.product_id, self.price]"
   ]
  },
  {
   "cell_type": "markdown",
   "metadata": {},
   "source": [
    "The file is converted into CSV format by the `log_to_csv` function in the `ch07-logs_to_csv.py`"
   ]
  },
  {
   "cell_type": "code",
   "execution_count": null,
   "metadata": {},
   "outputs": [],
   "source": [
    "import csv\n",
    "def log_to_csv(input_file, output_file, location):\n",
    "    logs = [ PriceLog.parse(location,line) for line in input_file]\n",
    "    writer = csv.writer(output_file)\n",
    "    writer.writerow(PriceLog.header())\n",
    "    writer.writerow(l.row() for l in logs)\n",
    "    "
   ]
  },
  {
   "cell_type": "code",
   "execution_count": null,
   "metadata": {},
   "outputs": [],
   "source": [
    "#more efficient: line at a time:\n",
    "def log_to_csv(input_file, output_file, location):\n",
    "    writer = csv.writer(output_file)\n",
    "    writer.writerow(PriceLog.header())\n",
    "    for line in input_file:\n",
    "        log = PriceLog.parse(location,line)\n",
    "        writer.writerow(log.row())"
   ]
  },
  {
   "cell_type": "markdown",
   "metadata": {},
   "source": [
    "### Appending currency based on location"
   ]
  }
 ],
 "metadata": {
  "kernelspec": {
   "display_name": "Python 3.10.5 ('.venv': venv)",
   "language": "python",
   "name": "python3"
  },
  "language_info": {
   "codemirror_mode": {
    "name": "ipython",
    "version": 3
   },
   "file_extension": ".py",
   "mimetype": "text/x-python",
   "name": "python",
   "nbconvert_exporter": "python",
   "pygments_lexer": "ipython3",
   "version": "3.10.5"
  },
  "orig_nbformat": 4,
  "vscode": {
   "interpreter": {
    "hash": "b9c68485fc2ca22e89981470a9b901ee6a2b3827ae489e275685bf84f6ed5b5a"
   }
  }
 },
 "nbformat": 4,
 "nbformat_minor": 2
}
